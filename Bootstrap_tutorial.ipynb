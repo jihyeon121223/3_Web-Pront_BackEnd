{
 "cells": [
  {
   "cell_type": "code",
   "execution_count": 1,
   "id": "b5c57880-2885-43ac-a377-9bda88126fd3",
   "metadata": {},
   "outputs": [],
   "source": [
    "## 필요 모듈 Import\n",
    "\n",
    "# Dash Component\n",
    "from dash import Dash, html, dcc, State, Input, Output\n",
    "import plotly.express as px\n",
    "import plotly.graph_objects as go\n",
    "import dash_bootstrap_components as dbc\n",
    "\n",
    "# DB connection, sql\n",
    "from sqlalchemy import create_engine, text\n",
    "import pymysql\n",
    "\n",
    "# DataFrame\n",
    "import pandas as pd\n",
    "\n",
    "\n"
   ]
  },
  {
   "cell_type": "code",
   "execution_count": 2,
   "id": "828ff25c-c827-41b8-9789-cd2fb685eacb",
   "metadata": {},
   "outputs": [],
   "source": [
    "# DB connection\n",
    "\n",
    "# DB info\n",
    "protocol = \"mysql+pymysql://\"\n",
    "\n",
    "# user info\n",
    "user = \"bigdata\"\n",
    "password = \"Bigdata123!!\"\n",
    "host = \"192.168.56.101\"\n",
    "port = \"3306\"\n",
    "db_name = \"SampleDB\"\n",
    "\n",
    "# Create Engine\n",
    "engine = create_engine(f\"{protocol}{user}:{password}@{host}:{port}/{db_name}\")\n",
    "\n",
    "# Connection\n",
    "conn = engine.connect()"
   ]
  },
  {
   "cell_type": "code",
   "execution_count": 3,
   "id": "4be33b55-aade-4e60-b639-2d29302d701b",
   "metadata": {},
   "outputs": [
    {
     "name": "stdout",
     "output_type": "stream",
     "text": [
      "[{'label': 'Asia', 'value': 'Asia'}, {'label': 'Europe', 'value': 'Europe'}, {'label': 'Africa', 'value': 'Africa'}, {'label': 'Americas', 'value': 'Americas'}, {'label': 'Oceania', 'value': 'Oceania'}]\n"
     ]
    }
   ],
   "source": [
    "## Load Data From Database\n",
    "\n",
    "world = pd.read_sql(\"SELECT * FROM world;\",conn)\n",
    "continent = pd.read_sql(\"SELECT DISTINCT continent FROM world;\",conn)\n",
    "\n",
    "con_list = [{\"label\":list(i)[0], \"value\":list(i)[0]} for i in continent.values]\n",
    "print(con_list)"
   ]
  },
  {
   "cell_type": "code",
   "execution_count": 4,
   "id": "b9e4d002-cfc1-4503-b827-75fc660c7fc9",
   "metadata": {},
   "outputs": [],
   "source": [
    "first_row = [html.Div(\"World's Population, GDP\")]\n",
    "\n",
    "second_row =[\n",
    "                dbc.Col([html.Label(\"대륙\",\n",
    "                                    style={\"font-size\":20,\n",
    "                                            \"text-align\": \"center\"}),\n",
    "                        dcc.Dropdown(id='dropdown1', options = con_list)\n",
    "                        ]),\n",
    "        \n",
    "                dbc.Col([html.Label(\"국가\",\n",
    "                                    style={\"font-size\":20,\n",
    "                                            \"text-align\": \"center\"}),\n",
    "                        html.Div(id = \"output-dropdown1\")]),\n",
    "        \n",
    "                dbc.Col([html.Label(\"연도\",\n",
    "                                    style={\"font-size\":20,\n",
    "                                            \"text-align\": \"center\"}),\n",
    "                        html.Div(id = \"output-dropdown2\")]),\n",
    "            ]\n",
    "\n",
    "\n",
    "third_row = [\n",
    "                html.Div(id = \"output\")\n",
    "     \n",
    "            ]\n",
    "\n"
   ]
  },
  {
   "cell_type": "code",
   "execution_count": 5,
   "id": "2aaf092f-3bff-463e-9fe4-e46d8be9f7a1",
   "metadata": {},
   "outputs": [],
   "source": [
    "sample_bootstrap = \"https://cdn.jsdelivr.net/npm/bootstrap@5.1.3/dist/css/bootstrap.min.css\"\n",
    "app = Dash(external_stylesheets=[sample_bootstrap])\n",
    "app.layout = html.Div([\n",
    "    dbc.Row(first_row, style={\"color\":\"white\",\n",
    "                                                       \"font-size\":50,\n",
    "                                                       \"background-color\":\"black\",\n",
    "                                                        \"text-align\": \"center\"}),\n",
    "    dbc.Row(second_row,\n",
    "            style={\"margin-bottom\":0, \"height\":100,\"padding-left\":30, \"padding-right\":30,\"text-align\":\"center\"}),\n",
    "    \n",
    "    \n",
    "    dbc.Row(third_row)\n",
    "    \n",
    "])\n"
   ]
  },
  {
   "cell_type": "code",
   "execution_count": 6,
   "id": "bbe02ebc-8818-4c6c-bd1f-d5e4e06e90a9",
   "metadata": {},
   "outputs": [],
   "source": [
    "@app.callback(\n",
    "    Output('output-dropdown1','children'),\n",
    "    Input('dropdown1','value')\n",
    ")\n",
    "\n",
    "def update_county_dropdown(continent):\n",
    "    country = pd.read_sql(f\"SELECT distinct country FROM world WHERE continent = '{continent}'\", conn)\n",
    "    country_list = [{\"label\":list(i)[0], \"value\":list(i)[0]} for i in country.values]\n",
    "    return html.Div([\n",
    "        dcc.Dropdown(\n",
    "            id = \"dropdown2\",\n",
    "            options=country_list)\n",
    "    ])\n",
    "\n",
    "@app.callback(\n",
    "    Output('output-dropdown2','children'),\n",
    "    Input('dropdown1','value')\n",
    ")\n",
    "\n",
    "def update_year_dorpdown(continent):\n",
    "    year = pd.read_sql(f\"SELECT distinct year FROM world WHERE continent = '{continent}'\", conn)\n",
    "    year_list = [{\"label\":list(i)[0], \"value\":list(i)[0]} for i in year.values]\n",
    "    return html.Div([\n",
    "        dcc.Dropdown(\n",
    "            id = \"dropdown3\",\n",
    "            options=year_list)\n",
    "    ])\n",
    "\n",
    "\n",
    "@app.callback(\n",
    "    Output('output','children'),\n",
    "    Input('dropdown2','value'),\n",
    "    Input('dropdown3','value')\n",
    ")\n",
    "\n",
    "def update_graph(country,year):\n",
    "    \n",
    "    con_data = pd.read_sql(f\"SELECT year, sum(pop) as pop, sum(gdpPercap) as gdpPercap FROM world WHERE country = '{country}' GROUP BY year;\", conn)\n",
    "    con_data2 = pd.read_sql(f\"SELECT year, gdpPercap FROM world WHERE country = '{country}';\", conn)\n",
    "    colors = ['blue']*con_data['year'].size\n",
    "    idx = con_data.index[con_data['year'] == year][0]\n",
    "    colors[idx] = 'crimson'\n",
    "    fig1 = go.Figure(go.Bar(x=con_data['year'], y=con_data['pop'], marker_color=colors))\n",
    "    fig2 = go.Figure(go.Line( x=con_data['year'],y=con_data['gdpPercap'], marker_color=colors))\n",
    "    return dbc.Row([\n",
    "        dbc.Col([dcc.Graph(id = \"bar-graph\",figure = fig1)], style={\"border-right-style\": \"solid\",\"border-right-color\": \"#e6e6e6\"}),\n",
    "        dbc.Col([dcc.Graph(id = \"line-graph\",figure = fig2)])\n",
    "        ],\n",
    "        style={\"margin-top\":0,\"border-bottom-style\": \"solid\",\"border-bottom-color\": \"#e6e6e6\",\"border-top-style\": \"solid\",\"border-top-color\": \"#e6e6e6\"})\n",
    "\n"
   ]
  },
  {
   "cell_type": "code",
   "execution_count": null,
   "id": "15af04a9-3d9d-4971-a521-6da5c0a890c9",
   "metadata": {},
   "outputs": [
    {
     "name": "stdout",
     "output_type": "stream",
     "text": [
      "Dash is running on http://192.168.56.101:7777/\n",
      "\n",
      " * Serving Flask app \"__main__\" (lazy loading)\n",
      " * Environment: production\n",
      "\u001b[31m   WARNING: This is a development server. Do not use it in a production deployment.\u001b[0m\n",
      "\u001b[2m   Use a production WSGI server instead.\u001b[0m\n",
      " * Debug mode: off\n"
     ]
    },
    {
     "name": "stderr",
     "output_type": "stream",
     "text": [
      " * Running on http://192.168.56.101:7777/ (Press CTRL+C to quit)\n",
      "192.168.56.1 - - [19/Feb/2022 02:52:41] \"GET / HTTP/1.1\" 200 -\n",
      "192.168.56.1 - - [19/Feb/2022 02:52:41] \"GET /_dash-layout HTTP/1.1\" 200 -\n",
      "192.168.56.1 - - [19/Feb/2022 02:52:41] \"GET /_dash-dependencies HTTP/1.1\" 200 -\n",
      "192.168.56.1 - - [19/Feb/2022 02:52:41] \"GET /_favicon.ico?v=2.1.0 HTTP/1.1\" 200 -\n",
      "192.168.56.1 - - [19/Feb/2022 02:52:42] \"GET /_dash-component-suites/dash/dcc/async-dropdown.js HTTP/1.1\" 200 -\n",
      "192.168.56.1 - - [19/Feb/2022 02:52:42] \"POST /_dash-update-component HTTP/1.1\" 200 -\n",
      "192.168.56.1 - - [19/Feb/2022 02:52:42] \"POST /_dash-update-component HTTP/1.1\" 200 -\n"
     ]
    },
    {
     "name": "stdout",
     "output_type": "stream",
     "text": [
      "Exception on /_dash-update-component [POST]\n",
      "Traceback (most recent call last):\n",
      "  File \"/home/charminglee/anaconda3/lib/python3.9/site-packages/flask/app.py\", line 2447, in wsgi_app\n",
      "    response = self.full_dispatch_request()\n",
      "  File \"/home/charminglee/anaconda3/lib/python3.9/site-packages/flask/app.py\", line 1952, in full_dispatch_request\n",
      "    rv = self.handle_user_exception(e)\n",
      "  File \"/home/charminglee/anaconda3/lib/python3.9/site-packages/flask/app.py\", line 1821, in handle_user_exception\n",
      "    reraise(exc_type, exc_value, tb)\n",
      "  File \"/home/charminglee/anaconda3/lib/python3.9/site-packages/flask/_compat.py\", line 39, in reraise\n",
      "    raise value\n",
      "  File \"/home/charminglee/anaconda3/lib/python3.9/site-packages/flask/app.py\", line 1950, in full_dispatch_request\n",
      "    rv = self.dispatch_request()\n",
      "  File \"/home/charminglee/anaconda3/lib/python3.9/site-packages/flask/app.py\", line 1936, in dispatch_request\n",
      "    return self.view_functions[rule.endpoint](**req.view_args)\n",
      "  File \"/home/charminglee/anaconda3/lib/python3.9/site-packages/dash/dash.py\", line 1344, in dispatch\n",
      "    response.set_data(func(*args, outputs_list=outputs_list))\n",
      "  File \"/home/charminglee/anaconda3/lib/python3.9/site-packages/dash/_callback.py\", line 151, in add_context\n",
      "    output_value = func(*func_args, **func_kwargs)  # %% callback invoked %%\n",
      "  File \"/tmp/ipykernel_13614/1888695937.py\", line 41, in update_graph\n",
      "    idx = con_data.index[con_data['year'] == year][0]\n",
      "  File \"/home/charminglee/anaconda3/lib/python3.9/site-packages/pandas/core/indexes/base.py\", line 4604, in __getitem__\n",
      "    return getitem(key)\n",
      "IndexError: index 0 is out of bounds for axis 0 with size 0\n"
     ]
    },
    {
     "name": "stderr",
     "output_type": "stream",
     "text": [
      "192.168.56.1 - - [19/Feb/2022 02:52:42] \"POST /_dash-update-component HTTP/1.1\" 500 -\n",
      "192.168.56.1 - - [19/Feb/2022 02:52:42] \"POST /_dash-update-component HTTP/1.1\" 200 -\n",
      "192.168.56.1 - - [19/Feb/2022 02:52:42] \"POST /_dash-update-component HTTP/1.1\" 200 -\n"
     ]
    },
    {
     "name": "stdout",
     "output_type": "stream",
     "text": [
      "Exception on /_dash-update-component [POST]\n",
      "Traceback (most recent call last):\n",
      "  File \"/home/charminglee/anaconda3/lib/python3.9/site-packages/flask/app.py\", line 2447, in wsgi_app\n",
      "    response = self.full_dispatch_request()\n",
      "  File \"/home/charminglee/anaconda3/lib/python3.9/site-packages/flask/app.py\", line 1952, in full_dispatch_request\n",
      "    rv = self.handle_user_exception(e)\n",
      "  File \"/home/charminglee/anaconda3/lib/python3.9/site-packages/flask/app.py\", line 1821, in handle_user_exception\n",
      "    reraise(exc_type, exc_value, tb)\n",
      "  File \"/home/charminglee/anaconda3/lib/python3.9/site-packages/flask/_compat.py\", line 39, in reraise\n",
      "    raise value\n",
      "  File \"/home/charminglee/anaconda3/lib/python3.9/site-packages/flask/app.py\", line 1950, in full_dispatch_request\n",
      "    rv = self.dispatch_request()\n",
      "  File \"/home/charminglee/anaconda3/lib/python3.9/site-packages/flask/app.py\", line 1936, in dispatch_request\n",
      "    return self.view_functions[rule.endpoint](**req.view_args)\n",
      "  File \"/home/charminglee/anaconda3/lib/python3.9/site-packages/dash/dash.py\", line 1344, in dispatch\n",
      "    response.set_data(func(*args, outputs_list=outputs_list))\n",
      "  File \"/home/charminglee/anaconda3/lib/python3.9/site-packages/dash/_callback.py\", line 151, in add_context\n",
      "    output_value = func(*func_args, **func_kwargs)  # %% callback invoked %%\n",
      "  File \"/tmp/ipykernel_13614/1888695937.py\", line 41, in update_graph\n",
      "    idx = con_data.index[con_data['year'] == year][0]\n",
      "  File \"/home/charminglee/anaconda3/lib/python3.9/site-packages/pandas/core/indexes/base.py\", line 4604, in __getitem__\n",
      "    return getitem(key)\n",
      "IndexError: index 0 is out of bounds for axis 0 with size 0\n"
     ]
    },
    {
     "name": "stderr",
     "output_type": "stream",
     "text": [
      "192.168.56.1 - - [19/Feb/2022 02:52:42] \"POST /_dash-update-component HTTP/1.1\" 500 -\n"
     ]
    },
    {
     "name": "stdout",
     "output_type": "stream",
     "text": [
      "Exception on /_dash-update-component [POST]\n",
      "Traceback (most recent call last):\n",
      "  File \"/home/charminglee/anaconda3/lib/python3.9/site-packages/flask/app.py\", line 2447, in wsgi_app\n",
      "    response = self.full_dispatch_request()\n",
      "  File \"/home/charminglee/anaconda3/lib/python3.9/site-packages/flask/app.py\", line 1952, in full_dispatch_request\n",
      "    rv = self.handle_user_exception(e)\n",
      "  File \"/home/charminglee/anaconda3/lib/python3.9/site-packages/flask/app.py\", line 1821, in handle_user_exception\n",
      "    reraise(exc_type, exc_value, tb)\n",
      "  File \"/home/charminglee/anaconda3/lib/python3.9/site-packages/flask/_compat.py\", line 39, in reraise\n",
      "    raise value\n",
      "  File \"/home/charminglee/anaconda3/lib/python3.9/site-packages/flask/app.py\", line 1950, in full_dispatch_request\n",
      "    rv = self.dispatch_request()\n",
      "  File \"/home/charminglee/anaconda3/lib/python3.9/site-packages/flask/app.py\", line 1936, in dispatch_request\n",
      "    return self.view_functions[rule.endpoint](**req.view_args)\n",
      "  File \"/home/charminglee/anaconda3/lib/python3.9/site-packages/dash/dash.py\", line 1344, in dispatch\n",
      "    response.set_data(func(*args, outputs_list=outputs_list))\n",
      "  File \"/home/charminglee/anaconda3/lib/python3.9/site-packages/dash/_callback.py\", line 151, in add_context\n",
      "    output_value = func(*func_args, **func_kwargs)  # %% callback invoked %%\n",
      "  File \"/tmp/ipykernel_13614/1888695937.py\", line 41, in update_graph\n",
      "    idx = con_data.index[con_data['year'] == year][0]\n",
      "  File \"/home/charminglee/anaconda3/lib/python3.9/site-packages/pandas/core/indexes/base.py\", line 4604, in __getitem__\n",
      "    return getitem(key)\n",
      "IndexError: index 0 is out of bounds for axis 0 with size 0\n"
     ]
    },
    {
     "name": "stderr",
     "output_type": "stream",
     "text": [
      "192.168.56.1 - - [19/Feb/2022 02:52:42] \"POST /_dash-update-component HTTP/1.1\" 500 -\n"
     ]
    },
    {
     "name": "stdout",
     "output_type": "stream",
     "text": [
      "Exception on /_dash-update-component [POST]\n",
      "Traceback (most recent call last):\n",
      "  File \"/home/charminglee/anaconda3/lib/python3.9/site-packages/flask/app.py\", line 2447, in wsgi_app\n",
      "    response = self.full_dispatch_request()\n",
      "  File \"/home/charminglee/anaconda3/lib/python3.9/site-packages/flask/app.py\", line 1952, in full_dispatch_request\n",
      "    rv = self.handle_user_exception(e)\n",
      "  File \"/home/charminglee/anaconda3/lib/python3.9/site-packages/flask/app.py\", line 1821, in handle_user_exception\n",
      "    reraise(exc_type, exc_value, tb)\n",
      "  File \"/home/charminglee/anaconda3/lib/python3.9/site-packages/flask/_compat.py\", line 39, in reraise\n",
      "    raise value\n",
      "  File \"/home/charminglee/anaconda3/lib/python3.9/site-packages/flask/app.py\", line 1950, in full_dispatch_request\n",
      "    rv = self.dispatch_request()\n",
      "  File \"/home/charminglee/anaconda3/lib/python3.9/site-packages/flask/app.py\", line 1936, in dispatch_request\n",
      "    return self.view_functions[rule.endpoint](**req.view_args)\n",
      "  File \"/home/charminglee/anaconda3/lib/python3.9/site-packages/dash/dash.py\", line 1344, in dispatch\n",
      "    response.set_data(func(*args, outputs_list=outputs_list))\n",
      "  File \"/home/charminglee/anaconda3/lib/python3.9/site-packages/dash/_callback.py\", line 151, in add_context\n",
      "    output_value = func(*func_args, **func_kwargs)  # %% callback invoked %%\n",
      "  File \"/tmp/ipykernel_13614/1888695937.py\", line 41, in update_graph\n",
      "    idx = con_data.index[con_data['year'] == year][0]\n",
      "  File \"/home/charminglee/anaconda3/lib/python3.9/site-packages/pandas/core/indexes/base.py\", line 4604, in __getitem__\n",
      "    return getitem(key)\n",
      "IndexError: index 0 is out of bounds for axis 0 with size 0\n"
     ]
    },
    {
     "name": "stderr",
     "output_type": "stream",
     "text": [
      "192.168.56.1 - - [19/Feb/2022 02:52:43] \"POST /_dash-update-component HTTP/1.1\" 500 -\n",
      "/home/charminglee/anaconda3/lib/python3.9/site-packages/plotly/graph_objs/_deprecations.py:378: DeprecationWarning:\n",
      "\n",
      "plotly.graph_objs.Line is deprecated.\n",
      "Please replace it with one of the following more specific types\n",
      "  - plotly.graph_objs.scatter.Line\n",
      "  - plotly.graph_objs.layout.shape.Line\n",
      "  - etc.\n",
      "\n",
      "\n",
      "192.168.56.1 - - [19/Feb/2022 02:52:44] \"POST /_dash-update-component HTTP/1.1\" 200 -\n",
      "192.168.56.1 - - [19/Feb/2022 02:52:44] \"GET /_dash-component-suites/dash/dcc/async-plotlyjs.js HTTP/1.1\" 200 -\n",
      "192.168.56.1 - - [19/Feb/2022 02:52:44] \"GET /_dash-component-suites/dash/dcc/async-graph.js HTTP/1.1\" 200 -\n"
     ]
    }
   ],
   "source": [
    "app.run_server(host='192.168.56.101',port=7777)"
   ]
  },
  {
   "cell_type": "code",
   "execution_count": null,
   "id": "b78e5d4d-d39d-4f71-b878-cc344363d14b",
   "metadata": {},
   "outputs": [],
   "source": []
  }
 ],
 "metadata": {
  "kernelspec": {
   "display_name": "Python 3 (ipykernel)",
   "language": "python",
   "name": "python3"
  },
  "language_info": {
   "codemirror_mode": {
    "name": "ipython",
    "version": 3
   },
   "file_extension": ".py",
   "mimetype": "text/x-python",
   "name": "python",
   "nbconvert_exporter": "python",
   "pygments_lexer": "ipython3",
   "version": "3.9.7"
  }
 },
 "nbformat": 4,
 "nbformat_minor": 5
}
