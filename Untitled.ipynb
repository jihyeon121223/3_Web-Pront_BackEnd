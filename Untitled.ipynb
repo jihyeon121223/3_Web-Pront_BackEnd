{
 "cells": [
  {
   "cell_type": "code",
   "execution_count": 1,
   "id": "9e80a633-711a-4aeb-90f3-58f598495fe4",
   "metadata": {},
   "outputs": [
    {
     "data": {
      "text/plain": [
       "10"
      ]
     },
     "execution_count": 1,
     "metadata": {},
     "output_type": "execute_result"
    }
   ],
   "source": [
    "10"
   ]
  },
  {
   "cell_type": "code",
   "execution_count": 2,
   "id": "7c34117e-4b00-422b-896e-b6abc1ac8103",
   "metadata": {},
   "outputs": [],
   "source": [
    "a=10 #변수선언 =은 연산자: 우측값을 좌측에 대입한다. "
   ]
  },
  {
   "cell_type": "code",
   "execution_count": 3,
   "id": "e2b09bee-2092-4614-bde1-85d270c3e934",
   "metadata": {},
   "outputs": [
    {
     "data": {
      "text/plain": [
       "10"
      ]
     },
     "execution_count": 3,
     "metadata": {},
     "output_type": "execute_result"
    }
   ],
   "source": [
    "a"
   ]
  },
  {
   "cell_type": "code",
   "execution_count": 4,
   "id": "7c9f335a-415b-4765-bff3-cf8fe9ac4112",
   "metadata": {},
   "outputs": [],
   "source": [
    "b=20"
   ]
  },
  {
   "cell_type": "code",
   "execution_count": 5,
   "id": "958c1126-592b-45b9-93a5-ef8f2cb6305c",
   "metadata": {},
   "outputs": [
    {
     "data": {
      "text/plain": [
       "20"
      ]
     },
     "execution_count": 5,
     "metadata": {},
     "output_type": "execute_result"
    }
   ],
   "source": [
    "b"
   ]
  },
  {
   "cell_type": "code",
   "execution_count": 6,
   "id": "66cc611b-f7ff-48f0-a555-c56158706ac7",
   "metadata": {},
   "outputs": [
    {
     "data": {
      "text/plain": [
       "30"
      ]
     },
     "execution_count": 6,
     "metadata": {},
     "output_type": "execute_result"
    }
   ],
   "source": [
    "a + b"
   ]
  },
  {
   "cell_type": "code",
   "execution_count": 7,
   "id": "8e4899c6-6bad-4c26-a918-07b7d4055fcb",
   "metadata": {},
   "outputs": [],
   "source": [
    "d = b/a"
   ]
  },
  {
   "cell_type": "code",
   "execution_count": 8,
   "id": "aab7ba5d-2424-4522-a746-ec0871aa0e3a",
   "metadata": {},
   "outputs": [
    {
     "data": {
      "text/plain": [
       "2.0"
      ]
     },
     "execution_count": 8,
     "metadata": {},
     "output_type": "execute_result"
    }
   ],
   "source": [
    "d"
   ]
  },
  {
   "cell_type": "code",
   "execution_count": 9,
   "id": "79cb08df-36cd-43a3-aa6b-b8651e679b46",
   "metadata": {},
   "outputs": [],
   "source": [
    "d=int(b/a) #함수 쓰면 정수로 나옴"
   ]
  },
  {
   "cell_type": "code",
   "execution_count": 10,
   "id": "f57e088c-a6e4-4560-a2a6-69afd0d5a94a",
   "metadata": {},
   "outputs": [
    {
     "data": {
      "text/plain": [
       "2"
      ]
     },
     "execution_count": 10,
     "metadata": {},
     "output_type": "execute_result"
    }
   ],
   "source": [
    "d"
   ]
  },
  {
   "cell_type": "code",
   "execution_count": 11,
   "id": "065646cb-6746-496b-8b32-634c12256b56",
   "metadata": {},
   "outputs": [],
   "source": [
    "d=int(a/b)"
   ]
  },
  {
   "cell_type": "code",
   "execution_count": 12,
   "id": "79c43951-53e6-41cf-aa5e-669da6884d0b",
   "metadata": {},
   "outputs": [
    {
     "data": {
      "text/plain": [
       "0"
      ]
     },
     "execution_count": 12,
     "metadata": {},
     "output_type": "execute_result"
    }
   ],
   "source": [
    "d"
   ]
  },
  {
   "cell_type": "code",
   "execution_count": 13,
   "id": "38e833d5-2f57-426c-803a-ea47f5f2209a",
   "metadata": {},
   "outputs": [
    {
     "data": {
      "text/plain": [
       "'python programmming'"
      ]
     },
     "execution_count": 13,
     "metadata": {},
     "output_type": "execute_result"
    }
   ],
   "source": [
    "\"python programmming\" #문자열을 쓸 때는 쌍따옴표 또는 따옴표 #문자열=문자의 행렬 #string"
   ]
  },
  {
   "cell_type": "code",
   "execution_count": 14,
   "id": "9850515b-6fe6-4d5f-bef6-2bf7e5e13b10",
   "metadata": {},
   "outputs": [
    {
     "data": {
      "text/plain": [
       "'\\n경기도 재직 당시 근무하던 직원의 일로 심려를 끼쳐드려 죄송합니다.\\n'"
      ]
     },
     "execution_count": 14,
     "metadata": {},
     "output_type": "execute_result"
    }
   ],
   "source": [
    "\"\"\"\n",
    "경기도 재직 당시 근무하던 직원의 일로 심려를 끼쳐드려 죄송합니다.\n",
    "\"\"\" #긴 문자 인식 "
   ]
  },
  {
   "cell_type": "code",
   "execution_count": 16,
   "id": "780cb815-ba94-4991-aa06-e390bf0ccfd5",
   "metadata": {},
   "outputs": [
    {
     "data": {
      "text/plain": [
       "2"
      ]
     },
     "execution_count": 16,
     "metadata": {},
     "output_type": "execute_result"
    }
   ],
   "source": [
    "(10>1) + (20>30) +(1>0.1) #T+F+T =1+0+1 =2"
   ]
  },
  {
   "cell_type": "code",
   "execution_count": 17,
   "id": "e4d37f11-42ac-4310-bac9-11a8f5c3bee4",
   "metadata": {},
   "outputs": [],
   "source": [
    "import keyword #선언하다"
   ]
  },
  {
   "cell_type": "code",
   "execution_count": 18,
   "id": "ec3187a4-b25b-44d0-a740-b1fcfa9de89f",
   "metadata": {},
   "outputs": [
    {
     "data": {
      "text/plain": [
       "['__all__',\n",
       " '__builtins__',\n",
       " '__cached__',\n",
       " '__doc__',\n",
       " '__file__',\n",
       " '__loader__',\n",
       " '__name__',\n",
       " '__package__',\n",
       " '__spec__',\n",
       " 'iskeyword',\n",
       " 'kwlist',\n",
       " 'main']"
      ]
     },
     "execution_count": 18,
     "metadata": {},
     "output_type": "execute_result"
    }
   ],
   "source": [
    "dir(keyword) #키워드리스트란 파이썬 내 갖고 있는 키워드"
   ]
  },
  {
   "cell_type": "code",
   "execution_count": 19,
   "id": "383e98a4-676c-4d9f-af92-c2e9ac56c03a",
   "metadata": {},
   "outputs": [
    {
     "data": {
      "text/plain": [
       "['False',\n",
       " 'None',\n",
       " 'True',\n",
       " 'and',\n",
       " 'as',\n",
       " 'assert',\n",
       " 'async',\n",
       " 'await',\n",
       " 'break',\n",
       " 'class',\n",
       " 'continue',\n",
       " 'def',\n",
       " 'del',\n",
       " 'elif',\n",
       " 'else',\n",
       " 'except',\n",
       " 'finally',\n",
       " 'for',\n",
       " 'from',\n",
       " 'global',\n",
       " 'if',\n",
       " 'import',\n",
       " 'in',\n",
       " 'is',\n",
       " 'lambda',\n",
       " 'nonlocal',\n",
       " 'not',\n",
       " 'or',\n",
       " 'pass',\n",
       " 'raise',\n",
       " 'return',\n",
       " 'try',\n",
       " 'while',\n",
       " 'with',\n",
       " 'yield']"
      ]
     },
     "execution_count": 19,
     "metadata": {},
     "output_type": "execute_result"
    }
   ],
   "source": [
    "keyword.kwlist"
   ]
  },
  {
   "cell_type": "code",
   "execution_count": 20,
   "id": "f8da54fa-0c58-488f-8a38-2a2819d51662",
   "metadata": {},
   "outputs": [],
   "source": [
    "import keyword as kw #as -라고 부르겠다"
   ]
  },
  {
   "cell_type": "code",
   "execution_count": 21,
   "id": "71babd71-89f8-44fa-9093-91a6d9605ef1",
   "metadata": {},
   "outputs": [
    {
     "data": {
      "text/plain": [
       "['False',\n",
       " 'None',\n",
       " 'True',\n",
       " 'and',\n",
       " 'as',\n",
       " 'assert',\n",
       " 'async',\n",
       " 'await',\n",
       " 'break',\n",
       " 'class',\n",
       " 'continue',\n",
       " 'def',\n",
       " 'del',\n",
       " 'elif',\n",
       " 'else',\n",
       " 'except',\n",
       " 'finally',\n",
       " 'for',\n",
       " 'from',\n",
       " 'global',\n",
       " 'if',\n",
       " 'import',\n",
       " 'in',\n",
       " 'is',\n",
       " 'lambda',\n",
       " 'nonlocal',\n",
       " 'not',\n",
       " 'or',\n",
       " 'pass',\n",
       " 'raise',\n",
       " 'return',\n",
       " 'try',\n",
       " 'while',\n",
       " 'with',\n",
       " 'yield']"
      ]
     },
     "execution_count": 21,
     "metadata": {},
     "output_type": "execute_result"
    }
   ],
   "source": [
    "kw.kwlist"
   ]
  },
  {
   "cell_type": "code",
   "execution_count": null,
   "id": "51c445d3-9045-4924-8a93-a442b2397440",
   "metadata": {},
   "outputs": [],
   "source": [
    "# student_class\n",
    "# StudentClass\n",
    "# SELECT *\n",
    "# FROM TB_KK\n",
    "# WHERE DKLAS = ''"
   ]
  },
  {
   "cell_type": "code",
   "execution_count": 22,
   "id": "4de811fb-1733-4e80-8f7c-f3c9e16a531c",
   "metadata": {},
   "outputs": [],
   "source": [
    "def multiple(x,y):\n",
    "    return x*y"
   ]
  },
  {
   "cell_type": "code",
   "execution_count": 23,
   "id": "1e7b5aa1-17c6-46b7-bad3-870a03e6f957",
   "metadata": {},
   "outputs": [
    {
     "data": {
      "text/plain": [
       "200"
      ]
     },
     "execution_count": 23,
     "metadata": {},
     "output_type": "execute_result"
    }
   ],
   "source": [
    "multiple(10,20)"
   ]
  },
  {
   "cell_type": "code",
   "execution_count": 24,
   "id": "4d669296-21f6-4f99-8543-bac92c29f2dd",
   "metadata": {},
   "outputs": [
    {
     "data": {
      "text/plain": [
       "3"
      ]
     },
     "execution_count": 24,
     "metadata": {},
     "output_type": "execute_result"
    }
   ],
   "source": [
    "3 #수치형 자료형. "
   ]
  },
  {
   "cell_type": "code",
   "execution_count": 28,
   "id": "4fa78f1b-997d-4170-a735-f910fb372f41",
   "metadata": {},
   "outputs": [
    {
     "data": {
      "text/plain": [
       "str"
      ]
     },
     "execution_count": 28,
     "metadata": {},
     "output_type": "execute_result"
    }
   ],
   "source": [
    "type(\"3.\")"
   ]
  },
  {
   "cell_type": "code",
   "execution_count": 29,
   "id": "083aa5cd-e697-49db-94b3-77112a529878",
   "metadata": {},
   "outputs": [],
   "source": [
    "a=\"Hello\"\n",
    "b='string'\n",
    "c='안녕'\n",
    "d=\"Hello\""
   ]
  },
  {
   "cell_type": "code",
   "execution_count": 30,
   "id": "12679290-ff3b-48d1-a525-ea5cd8d0fbb6",
   "metadata": {},
   "outputs": [
    {
     "data": {
      "text/plain": [
       "'H'"
      ]
     },
     "execution_count": 30,
     "metadata": {},
     "output_type": "execute_result"
    }
   ],
   "source": [
    "a[0] #0번째 자료를 가져옴"
   ]
  },
  {
   "cell_type": "code",
   "execution_count": 31,
   "id": "c43c7450-2d3d-436b-8dbe-ad1aaed93dd5",
   "metadata": {},
   "outputs": [
    {
     "data": {
      "text/plain": [
       "'Hell'"
      ]
     },
     "execution_count": 31,
     "metadata": {},
     "output_type": "execute_result"
    }
   ],
   "source": [
    "a[0:4] #슬라이싱"
   ]
  },
  {
   "cell_type": "code",
   "execution_count": 32,
   "id": "b5c37d36-e1f4-4d9f-86f1-cf2da972aa29",
   "metadata": {},
   "outputs": [],
   "source": [
    "d= \"' Creator\""
   ]
  },
  {
   "cell_type": "code",
   "execution_count": 33,
   "id": "dd9e1793-555b-4d05-8b36-1148b8e5ce1b",
   "metadata": {},
   "outputs": [
    {
     "data": {
      "text/plain": [
       "\"' Creator\""
      ]
     },
     "execution_count": 33,
     "metadata": {},
     "output_type": "execute_result"
    }
   ],
   "source": [
    "d"
   ]
  },
  {
   "cell_type": "code",
   "execution_count": 34,
   "id": "1f33bbaf-37be-4dcf-81f8-ad820291b0df",
   "metadata": {},
   "outputs": [
    {
     "name": "stdout",
     "output_type": "stream",
     "text": [
      "\"python\",Java\n"
     ]
    }
   ],
   "source": [
    "print('\"python\",Java')"
   ]
  },
  {
   "cell_type": "code",
   "execution_count": 35,
   "id": "7a80bfff-3197-4ecb-b7fa-3dc3bdd608fa",
   "metadata": {},
   "outputs": [],
   "source": [
    "d= \"py\\'s Creator\""
   ]
  },
  {
   "cell_type": "code",
   "execution_count": 36,
   "id": "68b5f455-1d84-46aa-bc98-97ca2d94d6f7",
   "metadata": {},
   "outputs": [
    {
     "data": {
      "text/plain": [
       "\"py's Creator\""
      ]
     },
     "execution_count": 36,
     "metadata": {},
     "output_type": "execute_result"
    }
   ],
   "source": [
    "d"
   ]
  },
  {
   "cell_type": "code",
   "execution_count": 40,
   "id": "1c77c0e3-beba-43c0-8c94-13aecdae7f12",
   "metadata": {},
   "outputs": [
    {
     "name": "stdout",
     "output_type": "stream",
     "text": [
      "\"python\",\\n\\tJava\n"
     ]
    }
   ],
   "source": [
    "print(\"\\\"python\\\",\\\\n\\\\tJava\")"
   ]
  },
  {
   "cell_type": "code",
   "execution_count": 41,
   "id": "57f02658-ab6b-4e6e-a931-41fdac3cd648",
   "metadata": {},
   "outputs": [
    {
     "name": "stdout",
     "output_type": "stream",
     "text": [
      "\"python\",\n",
      "\tJava\n"
     ]
    }
   ],
   "source": [
    "print(\"\\\"python\\\",\\n\\tJava\")"
   ]
  },
  {
   "cell_type": "code",
   "execution_count": 42,
   "id": "985181e6-b469-40ec-aa23-97c385d7cf5d",
   "metadata": {},
   "outputs": [],
   "source": [
    "a=\"안냥\"\n",
    "b=\"하세요\""
   ]
  },
  {
   "cell_type": "code",
   "execution_count": 43,
   "id": "57992936-a703-4576-8784-3d29661d6a55",
   "metadata": {},
   "outputs": [
    {
     "data": {
      "text/plain": [
       "'안냥하세요'"
      ]
     },
     "execution_count": 43,
     "metadata": {},
     "output_type": "execute_result"
    }
   ],
   "source": [
    "a+b"
   ]
  },
  {
   "cell_type": "code",
   "execution_count": 46,
   "id": "582b2d2a-5a69-4c6f-8b20-06c826c254cc",
   "metadata": {},
   "outputs": [],
   "source": [
    "def hello(x):\n",
    "    return '안냥'+' '+x+'요'"
   ]
  },
  {
   "cell_type": "code",
   "execution_count": 47,
   "id": "442b66a8-1fbe-4e1a-a6e3-de7442ef7125",
   "metadata": {},
   "outputs": [
    {
     "data": {
      "text/plain": [
       "'안냥 아니함요'"
      ]
     },
     "execution_count": 47,
     "metadata": {},
     "output_type": "execute_result"
    }
   ],
   "source": [
    "hello('아니함')"
   ]
  },
  {
   "cell_type": "code",
   "execution_count": 49,
   "id": "2199ea7b-ab7d-46e6-9c16-9754b8f25de9",
   "metadata": {},
   "outputs": [
    {
     "name": "stdout",
     "output_type": "stream",
     "text": [
      "안냥 최요 /n\n",
      "안냥 박요 /n\n",
      "안냥 이요 /n\n"
     ]
    }
   ],
   "source": [
    "x=[\"최\",\"박\",\"이\"]\n",
    "for i in x:\n",
    "    print(hello(i),\"/n\")"
   ]
  },
  {
   "cell_type": "code",
   "execution_count": 52,
   "id": "386899af-5512-41b9-9c08-b9e59554ad5e",
   "metadata": {},
   "outputs": [
    {
     "name": "stdout",
     "output_type": "stream",
     "text": [
      "안냥 최요11 /n\n",
      "안냥 박요12 /n\n",
      "안냥 이요13 /n\n"
     ]
    }
   ],
   "source": [
    "def hello(x):\n",
    "    return '안냥'+' '+x+'요'+str(1)\n",
    "x=[\"최\",\"박\",\"이\"]\n",
    "j=1\n",
    "for i in x:\n",
    "    print(hello(i)+str(j),\"/n\")\n",
    "    j +=1"
   ]
  },
  {
   "cell_type": "code",
   "execution_count": 54,
   "id": "87118127-dd16-40aa-bf04-91105c843f37",
   "metadata": {},
   "outputs": [
    {
     "data": {
      "text/plain": [
       "['최', '박', '이', '최', '박', '이', '최', '박', '이']"
      ]
     },
     "execution_count": 54,
     "metadata": {},
     "output_type": "execute_result"
    }
   ],
   "source": [
    "x*3"
   ]
  },
  {
   "cell_type": "code",
   "execution_count": 55,
   "id": "5671760e-4f68-4936-9da9-d69629b9d717",
   "metadata": {},
   "outputs": [
    {
     "ename": "TypeError",
     "evalue": "can only concatenate list (not \"int\") to list",
     "output_type": "error",
     "traceback": [
      "\u001b[1;31m---------------------------------------------------------------------------\u001b[0m",
      "\u001b[1;31mTypeError\u001b[0m                                 Traceback (most recent call last)",
      "\u001b[1;32m~\\AppData\\Local\\Temp/ipykernel_2644/2020691395.py\u001b[0m in \u001b[0;36m<module>\u001b[1;34m\u001b[0m\n\u001b[1;32m----> 1\u001b[1;33m \u001b[0mx\u001b[0m\u001b[1;33m+\u001b[0m\u001b[1;36m3\u001b[0m\u001b[1;33m\u001b[0m\u001b[1;33m\u001b[0m\u001b[0m\n\u001b[0m",
      "\u001b[1;31mTypeError\u001b[0m: can only concatenate list (not \"int\") to list"
     ]
    }
   ],
   "source": [
    "x+3"
   ]
  },
  {
   "cell_type": "code",
   "execution_count": 56,
   "id": "4d9d5bb3-d771-405c-8915-9b65f07d3be9",
   "metadata": {},
   "outputs": [],
   "source": [
    "hi=\"안녕\""
   ]
  },
  {
   "cell_type": "code",
   "execution_count": 57,
   "id": "7f172bf0-53e7-451c-bb27-35f43a02a97d",
   "metadata": {},
   "outputs": [],
   "source": [
    "#hi[] #[]는 인덱싱을 하기 위함. 숫자는 크기, 문자는 길이"
   ]
  },
  {
   "cell_type": "code",
   "execution_count": 58,
   "id": "907a9b39-6f47-463d-ac6d-eeeae664fefd",
   "metadata": {},
   "outputs": [
    {
     "data": {
      "text/plain": [
       "2"
      ]
     },
     "execution_count": 58,
     "metadata": {},
     "output_type": "execute_result"
    }
   ],
   "source": [
    "len(hi)"
   ]
  },
  {
   "cell_type": "code",
   "execution_count": 59,
   "id": "406deb56-4129-41c9-a1a9-3bb157f9ee58",
   "metadata": {},
   "outputs": [
    {
     "name": "stdout",
     "output_type": "stream",
     "text": [
      "안\n",
      "녕\n"
     ]
    }
   ],
   "source": [
    "for i in hi:\n",
    "    print(i)"
   ]
  },
  {
   "cell_type": "code",
   "execution_count": 60,
   "id": "3947e22b-1497-4582-8604-e5a1c50da73c",
   "metadata": {},
   "outputs": [
    {
     "name": "stdout",
     "output_type": "stream",
     "text": [
      "안\n",
      "녕\n"
     ]
    }
   ],
   "source": [
    "for i in range(len(hi)): #range5=01234\n",
    "    print(hi[i])"
   ]
  },
  {
   "cell_type": "code",
   "execution_count": 61,
   "id": "8811f003-30e9-487e-a949-7b724cccb49c",
   "metadata": {},
   "outputs": [],
   "source": [
    "#슬라이싱은 범위, 리스트는 슬라이싱이 안됨"
   ]
  },
  {
   "cell_type": "code",
   "execution_count": 62,
   "id": "9b532c37-023a-4b42-a561-d3bc4c9c73d1",
   "metadata": {},
   "outputs": [
    {
     "data": {
      "text/plain": [
       "'안녕'"
      ]
     },
     "execution_count": 62,
     "metadata": {},
     "output_type": "execute_result"
    }
   ],
   "source": [
    "hi[:]"
   ]
  },
  {
   "cell_type": "code",
   "execution_count": 64,
   "id": "c209ea51-3aa6-4688-84ec-24bfbd088bb7",
   "metadata": {},
   "outputs": [
    {
     "data": {
      "text/plain": [
       "'안'"
      ]
     },
     "execution_count": 64,
     "metadata": {},
     "output_type": "execute_result"
    }
   ],
   "source": [
    "hi[0:1] #[0번째:가져오는 수]"
   ]
  },
  {
   "cell_type": "code",
   "execution_count": 66,
   "id": "00e65d5d-4690-4fab-b91b-ecb96ba00e4f",
   "metadata": {},
   "outputs": [
    {
     "data": {
      "text/plain": [
       "'녕'"
      ]
     },
     "execution_count": 66,
     "metadata": {},
     "output_type": "execute_result"
    }
   ],
   "source": [
    "hi[1:2]"
   ]
  },
  {
   "cell_type": "code",
   "execution_count": 67,
   "id": "f05b57ac-c277-4d4c-b816-d6f19ae5dab5",
   "metadata": {},
   "outputs": [],
   "source": [
    "hi_1=[] #리스트만들기\n",
    "for i in range(len(hi)): #range5=01234\n",
    "    hi_1.append(hi[i]) "
   ]
  },
  {
   "cell_type": "code",
   "execution_count": 68,
   "id": "70a1182f-5a22-4f8e-898e-8250b7c34682",
   "metadata": {},
   "outputs": [
    {
     "data": {
      "text/plain": [
       "'안녕'"
      ]
     },
     "execution_count": 68,
     "metadata": {},
     "output_type": "execute_result"
    }
   ],
   "source": [
    "hi"
   ]
  },
  {
   "cell_type": "code",
   "execution_count": 69,
   "id": "bf33e47f-8739-4573-a1cd-87cc0e405c15",
   "metadata": {},
   "outputs": [
    {
     "data": {
      "text/plain": [
       "['안', '녕']"
      ]
     },
     "execution_count": 69,
     "metadata": {},
     "output_type": "execute_result"
    }
   ],
   "source": [
    "hi_1"
   ]
  },
  {
   "cell_type": "code",
   "execution_count": 70,
   "id": "6610090c-5165-443c-ae7b-edc00e9ff9eb",
   "metadata": {},
   "outputs": [
    {
     "data": {
      "text/plain": [
       "'안'"
      ]
     },
     "execution_count": 70,
     "metadata": {},
     "output_type": "execute_result"
    }
   ],
   "source": [
    "hi_1[0]"
   ]
  },
  {
   "cell_type": "code",
   "execution_count": 71,
   "id": "8c5dd594-8f3b-4b11-ae17-00a0a9963e62",
   "metadata": {},
   "outputs": [
    {
     "data": {
      "text/plain": [
       "str"
      ]
     },
     "execution_count": 71,
     "metadata": {},
     "output_type": "execute_result"
    }
   ],
   "source": [
    "type(hi_1[0]) #한 값을 가져오는건 스트링"
   ]
  },
  {
   "cell_type": "code",
   "execution_count": 72,
   "id": "1ca7e8e8-7e1e-45d6-a1f9-191f51a6073b",
   "metadata": {},
   "outputs": [
    {
     "data": {
      "text/plain": [
       "'안'"
      ]
     },
     "execution_count": 72,
     "metadata": {},
     "output_type": "execute_result"
    }
   ],
   "source": [
    "hi[0] #str"
   ]
  },
  {
   "cell_type": "code",
   "execution_count": 73,
   "id": "2920aa1f-cc7d-4c81-b3fb-3738c278c57e",
   "metadata": {},
   "outputs": [
    {
     "data": {
      "text/plain": [
       "'안'"
      ]
     },
     "execution_count": 73,
     "metadata": {},
     "output_type": "execute_result"
    }
   ],
   "source": [
    "hi[0:1] #list"
   ]
  },
  {
   "cell_type": "code",
   "execution_count": 75,
   "id": "65cfdbf7-eecf-40bd-9b02-ef34ffb43115",
   "metadata": {},
   "outputs": [
    {
     "data": {
      "text/plain": [
       "list"
      ]
     },
     "execution_count": 75,
     "metadata": {},
     "output_type": "execute_result"
    }
   ],
   "source": [
    "type(hi_1[0:1]) "
   ]
  },
  {
   "cell_type": "code",
   "execution_count": 76,
   "id": "628a35a5-94d3-41a1-915f-e07a5eae60c4",
   "metadata": {},
   "outputs": [
    {
     "name": "stdout",
     "output_type": "stream",
     "text": [
      "안\n",
      "요\n",
      "세\n",
      "하\n",
      "녕\n"
     ]
    }
   ],
   "source": [
    "hi=\"안녕하세요\"\n",
    "for i in range(len(hi)): #range5=01234\n",
    "    print(hi[-i])"
   ]
  },
  {
   "cell_type": "code",
   "execution_count": 77,
   "id": "964c277c-0111-4917-ac3a-26694623f404",
   "metadata": {},
   "outputs": [
    {
     "name": "stdout",
     "output_type": "stream",
     "text": [
      "요\n",
      "세\n",
      "하\n",
      "녕\n",
      "안\n"
     ]
    }
   ],
   "source": [
    "hi=\"안녕하세요\"\n",
    "for i in range(1,len(hi)+1): #range5=01234\n",
    "    print(hi[-i])"
   ]
  },
  {
   "cell_type": "code",
   "execution_count": 78,
   "id": "7082dd63-cec5-415d-8652-a9506ad16c84",
   "metadata": {},
   "outputs": [
    {
     "name": "stdout",
     "output_type": "stream",
     "text": [
      "요\n",
      "세\n",
      "하\n",
      "녕\n",
      "안\n"
     ]
    }
   ],
   "source": [
    "hi=\"안녕하세요\"\n",
    "for i in range(len(hi)): #range5=01234\n",
    "    i=i+1\n",
    "    print(hi[-i])"
   ]
  },
  {
   "cell_type": "code",
   "execution_count": 80,
   "id": "ce7800bd-0e2c-47c9-bb69-334d1d4449d0",
   "metadata": {},
   "outputs": [
    {
     "data": {
      "text/plain": [
       "'안녕하세요'"
      ]
     },
     "execution_count": 80,
     "metadata": {},
     "output_type": "execute_result"
    }
   ],
   "source": [
    "hi[-5::]"
   ]
  },
  {
   "cell_type": "code",
   "execution_count": 81,
   "id": "461849a1-71f8-431c-8060-e38c78b31ff6",
   "metadata": {},
   "outputs": [
    {
     "data": {
      "text/plain": [
       "'안녕하세요안녕하세요안녕하세요'"
      ]
     },
     "execution_count": 81,
     "metadata": {},
     "output_type": "execute_result"
    }
   ],
   "source": [
    "hi*3"
   ]
  },
  {
   "cell_type": "code",
   "execution_count": 82,
   "id": "fa44f8ef-cfa1-458b-bc7c-605b6b19366e",
   "metadata": {},
   "outputs": [
    {
     "ename": "SyntaxError",
     "evalue": "invalid syntax (Temp/ipykernel_2644/1993329020.py, line 1)",
     "output_type": "error",
     "traceback": [
      "\u001b[1;36m  File \u001b[1;32m\"C:\\Users\\user\\AppData\\Local\\Temp/ipykernel_2644/1993329020.py\"\u001b[1;36m, line \u001b[1;32m1\u001b[0m\n\u001b[1;33m    hi[] #문자열과 리스트는 리터(반복되는 값). 한 값을 갖는건 슬라이싱.\u001b[0m\n\u001b[1;37m       ^\u001b[0m\n\u001b[1;31mSyntaxError\u001b[0m\u001b[1;31m:\u001b[0m invalid syntax\n"
     ]
    }
   ],
   "source": [
    "hi[] #문자열과 리스트는 '__iter__'(반복되는 값). 한 값을 갖는건 슬라이싱. "
   ]
  },
  {
   "cell_type": "code",
   "execution_count": 83,
   "id": "ce40ab5e-99d3-49e9-8256-8715d0bdfd6f",
   "metadata": {},
   "outputs": [
    {
     "data": {
      "text/plain": [
       "['__add__',\n",
       " '__class__',\n",
       " '__contains__',\n",
       " '__delattr__',\n",
       " '__dir__',\n",
       " '__doc__',\n",
       " '__eq__',\n",
       " '__format__',\n",
       " '__ge__',\n",
       " '__getattribute__',\n",
       " '__getitem__',\n",
       " '__getnewargs__',\n",
       " '__gt__',\n",
       " '__hash__',\n",
       " '__init__',\n",
       " '__init_subclass__',\n",
       " '__iter__',\n",
       " '__le__',\n",
       " '__len__',\n",
       " '__lt__',\n",
       " '__mod__',\n",
       " '__mul__',\n",
       " '__ne__',\n",
       " '__new__',\n",
       " '__reduce__',\n",
       " '__reduce_ex__',\n",
       " '__repr__',\n",
       " '__rmod__',\n",
       " '__rmul__',\n",
       " '__setattr__',\n",
       " '__sizeof__',\n",
       " '__str__',\n",
       " '__subclasshook__',\n",
       " 'capitalize',\n",
       " 'casefold',\n",
       " 'center',\n",
       " 'count',\n",
       " 'encode',\n",
       " 'endswith',\n",
       " 'expandtabs',\n",
       " 'find',\n",
       " 'format',\n",
       " 'format_map',\n",
       " 'index',\n",
       " 'isalnum',\n",
       " 'isalpha',\n",
       " 'isascii',\n",
       " 'isdecimal',\n",
       " 'isdigit',\n",
       " 'isidentifier',\n",
       " 'islower',\n",
       " 'isnumeric',\n",
       " 'isprintable',\n",
       " 'isspace',\n",
       " 'istitle',\n",
       " 'isupper',\n",
       " 'join',\n",
       " 'ljust',\n",
       " 'lower',\n",
       " 'lstrip',\n",
       " 'maketrans',\n",
       " 'partition',\n",
       " 'replace',\n",
       " 'rfind',\n",
       " 'rindex',\n",
       " 'rjust',\n",
       " 'rpartition',\n",
       " 'rsplit',\n",
       " 'rstrip',\n",
       " 'split',\n",
       " 'splitlines',\n",
       " 'startswith',\n",
       " 'strip',\n",
       " 'swapcase',\n",
       " 'title',\n",
       " 'translate',\n",
       " 'upper',\n",
       " 'zfill']"
      ]
     },
     "execution_count": 83,
     "metadata": {},
     "output_type": "execute_result"
    }
   ],
   "source": [
    "dir(hi)"
   ]
  },
  {
   "cell_type": "code",
   "execution_count": 84,
   "id": "9037cc5c-408f-4062-a01d-0296726ae2aa",
   "metadata": {},
   "outputs": [
    {
     "data": {
      "text/plain": [
       "'안녕하세요'"
      ]
     },
     "execution_count": 84,
     "metadata": {},
     "output_type": "execute_result"
    }
   ],
   "source": [
    "hi[0:7]"
   ]
  },
  {
   "cell_type": "code",
   "execution_count": 85,
   "id": "cb4d8e26-4459-4c89-8e07-fbe52d0a0301",
   "metadata": {},
   "outputs": [
    {
     "data": {
      "text/plain": [
       "''"
      ]
     },
     "execution_count": 85,
     "metadata": {},
     "output_type": "execute_result"
    }
   ],
   "source": [
    "hi[6:100]"
   ]
  },
  {
   "cell_type": "code",
   "execution_count": 86,
   "id": "ee365718-98fa-41ff-b253-e1d5e7db168d",
   "metadata": {},
   "outputs": [
    {
     "ename": "IndexError",
     "evalue": "string index out of range",
     "output_type": "error",
     "traceback": [
      "\u001b[1;31m---------------------------------------------------------------------------\u001b[0m",
      "\u001b[1;31mIndexError\u001b[0m                                Traceback (most recent call last)",
      "\u001b[1;32m~\\AppData\\Local\\Temp/ipykernel_2644/1122277972.py\u001b[0m in \u001b[0;36m<module>\u001b[1;34m\u001b[0m\n\u001b[1;32m----> 1\u001b[1;33m \u001b[0mhi\u001b[0m\u001b[1;33m[\u001b[0m\u001b[1;36m6\u001b[0m\u001b[1;33m:\u001b[0m\u001b[1;36m100\u001b[0m\u001b[1;33m]\u001b[0m\u001b[1;33m[\u001b[0m\u001b[1;36m7\u001b[0m\u001b[1;33m]\u001b[0m\u001b[1;33m\u001b[0m\u001b[1;33m\u001b[0m\u001b[0m\n\u001b[0m",
      "\u001b[1;31mIndexError\u001b[0m: string index out of range"
     ]
    }
   ],
   "source": [
    "hi[6:100][7]"
   ]
  },
  {
   "cell_type": "code",
   "execution_count": 87,
   "id": "c5899a1a-78e5-49ad-bd27-6f1c4ee98b0d",
   "metadata": {},
   "outputs": [],
   "source": [
    "##hi object가 몇개인지 세어 출력"
   ]
  },
  {
   "cell_type": "code",
   "execution_count": 88,
   "id": "8a3e4f78-6f96-4a26-ad0e-9ec360d92783",
   "metadata": {},
   "outputs": [
    {
     "name": "stdout",
     "output_type": "stream",
     "text": [
      "5\n"
     ]
    }
   ],
   "source": [
    "x=len(hi)\n",
    "print(x)"
   ]
  },
  {
   "cell_type": "code",
   "execution_count": 89,
   "id": "2bb58fa1-143e-422a-bc2a-1748ce136db9",
   "metadata": {},
   "outputs": [
    {
     "name": "stdout",
     "output_type": "stream",
     "text": [
      "5\n"
     ]
    }
   ],
   "source": [
    "print(len(hi))"
   ]
  },
  {
   "cell_type": "code",
   "execution_count": 90,
   "id": "8b80d7ac-e664-41ea-af3b-ced37e26a0e0",
   "metadata": {},
   "outputs": [],
   "source": [
    "a=\"\"\"\n",
    "투자전문회사인 SK㈜가 미국 차세대 배터리 개발사 'SES홀딩스(옛 솔리드에너지시스템)'의 뉴욕 증시 상장으로 잭팟을 터뜨리게 됐다. 약 730억원을 투자해 확보한 지분 가치가 4300억원으로 불어날 예정이기 때문이다.\n",
    "\"\"\""
   ]
  },
  {
   "cell_type": "code",
   "execution_count": 91,
   "id": "f7baae5b-4545-45ad-8acc-7cfb7d8c51ee",
   "metadata": {},
   "outputs": [
    {
     "data": {
      "text/plain": [
       "\"\\n투자전문회사인 SK㈜가 미국 차세대 배터리 개발사 'SES홀딩스(옛 솔리드에너지시스템)'의 뉴욕 증시 상장으로 잭팟을 터뜨리게 됐다. 약 730억원을 투자해 확보한 지분 가치가 4300억원으로 불어날 예정이기 때문이다.\\n\""
      ]
     },
     "execution_count": 91,
     "metadata": {},
     "output_type": "execute_result"
    }
   ],
   "source": [
    "a"
   ]
  },
  {
   "cell_type": "code",
   "execution_count": 92,
   "id": "65cd0b06-51c3-4faf-871e-f36ce1b074a4",
   "metadata": {},
   "outputs": [
    {
     "name": "stdout",
     "output_type": "stream",
     "text": [
      "124\n"
     ]
    }
   ],
   "source": [
    "print(len(a)) #벡터값"
   ]
  },
  {
   "cell_type": "code",
   "execution_count": 94,
   "id": "bda125db-0630-46ab-a5c7-0f211b8ae802",
   "metadata": {},
   "outputs": [
    {
     "name": "stdout",
     "output_type": "stream",
     "text": [
      "\\\\\\\\d\n"
     ]
    }
   ],
   "source": [
    "print(\"\\\\\\\\\\\\\\\\d\")"
   ]
  },
  {
   "cell_type": "code",
   "execution_count": 96,
   "id": "dc55b450-ec13-417e-8c0a-2bfa7cfdbdd7",
   "metadata": {},
   "outputs": [
    {
     "data": {
      "text/plain": [
       "'\\\\\\\\\\\\\\\\'"
      ]
     },
     "execution_count": 96,
     "metadata": {},
     "output_type": "execute_result"
    }
   ],
   "source": [
    "\"\\\\\\\\\\\\\\\\\""
   ]
  },
  {
   "cell_type": "code",
   "execution_count": 97,
   "id": "75464c47-0f53-4578-907b-24abea495b6d",
   "metadata": {},
   "outputs": [
    {
     "ename": "SyntaxError",
     "evalue": "invalid syntax (Temp/ipykernel_2644/1265538784.py, line 1)",
     "output_type": "error",
     "traceback": [
      "\u001b[1;36m  File \u001b[1;32m\"C:\\Users\\user\\AppData\\Local\\Temp/ipykernel_2644/1265538784.py\"\u001b[1;36m, line \u001b[1;32m1\u001b[0m\n\u001b[1;33m    ******\u001b[0m\n\u001b[1;37m     ^\u001b[0m\n\u001b[1;31mSyntaxError\u001b[0m\u001b[1;31m:\u001b[0m invalid syntax\n"
     ]
    }
   ],
   "source": [
    "******\n",
    "*****\n",
    "****\n",
    "***\n",
    "**\n",
    "*"
   ]
  },
  {
   "cell_type": "code",
   "execution_count": 98,
   "id": "03e6b742-771e-4774-afed-7941fba0275b",
   "metadata": {},
   "outputs": [
    {
     "name": "stdout",
     "output_type": "stream",
     "text": [
      "******\n",
      "*****\n",
      "****\n",
      "***\n",
      "**\n",
      "*\n"
     ]
    }
   ],
   "source": [
    "print(\"******\")\n",
    "print(\"*****\")\n",
    "print(\"****\")\n",
    "print(\"***\")\n",
    "print(\"**\")\n",
    "print(\"*\")"
   ]
  },
  {
   "cell_type": "code",
   "execution_count": 99,
   "id": "0c262043-2066-4bcd-b716-7d63614c8b09",
   "metadata": {},
   "outputs": [
    {
     "name": "stdout",
     "output_type": "stream",
     "text": [
      "******\n",
      "*****\n",
      "****\n",
      "***\n",
      "**\n",
      "*\n"
     ]
    }
   ],
   "source": [
    "print(\"*\"*6)\n",
    "print(\"*\"*5)\n",
    "print(\"*\"*4)\n",
    "print(\"*\"*3)\n",
    "print(\"*\"*2)\n",
    "print(\"*\"*1)"
   ]
  },
  {
   "cell_type": "code",
   "execution_count": 100,
   "id": "d0c739c8-f8ef-4a2a-a9ff-7084168066f1",
   "metadata": {},
   "outputs": [
    {
     "name": "stdout",
     "output_type": "stream",
     "text": [
      "******\n",
      "******\n",
      "******\n",
      "******\n",
      "******\n",
      "******\n"
     ]
    }
   ],
   "source": [
    "for i in [0,0,0,0,0,0]: #for문은 이터레이션(반복)하는 개체만 들어간다\n",
    "    print(\"*\"*6)"
   ]
  },
  {
   "cell_type": "code",
   "execution_count": 101,
   "id": "8270ed12-ba6e-43ed-974a-ea0d1ab0e413",
   "metadata": {},
   "outputs": [
    {
     "name": "stdout",
     "output_type": "stream",
     "text": [
      "******\n",
      "******\n",
      "******\n",
      "******\n",
      "******\n",
      "******\n"
     ]
    }
   ],
   "source": [
    "for i in '123456': #for문은 이터레이션(반복)하는 개체만 들어간다\n",
    "    print(\"*\"*6)"
   ]
  },
  {
   "cell_type": "code",
   "execution_count": 102,
   "id": "3aa72355-1b93-46c6-b6e0-20089962ca58",
   "metadata": {},
   "outputs": [
    {
     "name": "stdout",
     "output_type": "stream",
     "text": [
      "1\n",
      "******\n",
      "2\n",
      "******\n",
      "3\n",
      "******\n",
      "4\n",
      "******\n",
      "5\n",
      "******\n",
      "6\n",
      "******\n"
     ]
    }
   ],
   "source": [
    "for i in '123456': #for문은 이터레이션(반복)하는 개체만 들어간다\n",
    "    print(i)\n",
    "    print(\"*\"*6)"
   ]
  },
  {
   "cell_type": "code",
   "execution_count": 103,
   "id": "64211c43-40a2-4626-8b7f-e74c1aaef5aa",
   "metadata": {},
   "outputs": [
    {
     "ename": "TypeError",
     "evalue": "can't multiply sequence by non-int of type 'str'",
     "output_type": "error",
     "traceback": [
      "\u001b[1;31m---------------------------------------------------------------------------\u001b[0m",
      "\u001b[1;31mTypeError\u001b[0m                                 Traceback (most recent call last)",
      "\u001b[1;32m~\\AppData\\Local\\Temp/ipykernel_2644/3291459329.py\u001b[0m in \u001b[0;36m<module>\u001b[1;34m\u001b[0m\n\u001b[0;32m      1\u001b[0m \u001b[1;32mfor\u001b[0m \u001b[0mi\u001b[0m \u001b[1;32min\u001b[0m \u001b[1;34m'123456'\u001b[0m\u001b[1;33m:\u001b[0m \u001b[1;31m#for문은 이터레이션(반복)하는 개체만 들어간다\u001b[0m\u001b[1;33m\u001b[0m\u001b[1;33m\u001b[0m\u001b[0m\n\u001b[1;32m----> 2\u001b[1;33m     \u001b[0mprint\u001b[0m\u001b[1;33m(\u001b[0m\u001b[1;34m\"*\"\u001b[0m\u001b[1;33m*\u001b[0m\u001b[0mi\u001b[0m\u001b[1;33m)\u001b[0m\u001b[1;33m\u001b[0m\u001b[1;33m\u001b[0m\u001b[0m\n\u001b[0m",
      "\u001b[1;31mTypeError\u001b[0m: can't multiply sequence by non-int of type 'str'"
     ]
    }
   ],
   "source": [
    "for i in '123456': #for문은 이터레이션(반복)하는 개체만 들어간다\n",
    "    print(\"*\"*i)"
   ]
  },
  {
   "cell_type": "code",
   "execution_count": 104,
   "id": "81bb5a01-aa82-488c-b266-57f8951e787f",
   "metadata": {},
   "outputs": [
    {
     "name": "stdout",
     "output_type": "stream",
     "text": [
      "*\n",
      "**\n",
      "***\n",
      "****\n",
      "*****\n",
      "******\n"
     ]
    }
   ],
   "source": [
    "for i in '123456': #for문은 이터레이션(반복)하는 개체만 들어간다\n",
    "    print(\"*\"*int(i))"
   ]
  },
  {
   "cell_type": "code",
   "execution_count": 105,
   "id": "3983851e-347f-4b75-b33d-9b0d387f28ee",
   "metadata": {},
   "outputs": [
    {
     "name": "stdout",
     "output_type": "stream",
     "text": [
      "******\n",
      "*****\n",
      "****\n",
      "***\n",
      "**\n",
      "*\n"
     ]
    }
   ],
   "source": [
    "for i in '123456': #for문은 이터레이션(반복)하는 개체만 들어간다\n",
    "    j = 7-int(i)\n",
    "    print(\"*\"*j)"
   ]
  },
  {
   "cell_type": "code",
   "execution_count": 107,
   "id": "68d2d187-8141-47bb-91f8-ed41cb28c12a",
   "metadata": {},
   "outputs": [
    {
     "ename": "SyntaxError",
     "evalue": "invalid syntax (Temp/ipykernel_2644/4226462429.py, line 1)",
     "output_type": "error",
     "traceback": [
      "\u001b[1;36m  File \u001b[1;32m\"C:\\Users\\user\\AppData\\Local\\Temp/ipykernel_2644/4226462429.py\"\u001b[1;36m, line \u001b[1;32m1\u001b[0m\n\u001b[1;33m    for i in '123456'[::-1] #for문은 이터레이션(반복)하는 개체만 들어간다\u001b[0m\n\u001b[1;37m                                                       ^\u001b[0m\n\u001b[1;31mSyntaxError\u001b[0m\u001b[1;31m:\u001b[0m invalid syntax\n"
     ]
    }
   ],
   "source": [
    "for i in '123456'[::-1] #for문은 이터레이션(반복)하는 개체만 들어간다\n",
    "    print(\"*\"*int(i))"
   ]
  },
  {
   "cell_type": "code",
   "execution_count": 108,
   "id": "aa76f030-7b2b-4170-bf12-3f82ca2ad703",
   "metadata": {},
   "outputs": [
    {
     "data": {
      "text/plain": [
       "3"
      ]
     },
     "execution_count": 108,
     "metadata": {},
     "output_type": "execute_result"
    }
   ],
   "source": [
    "10//3"
   ]
  },
  {
   "cell_type": "code",
   "execution_count": 109,
   "id": "113cce63-45d7-4984-a177-a264b379468a",
   "metadata": {},
   "outputs": [
    {
     "data": {
      "text/plain": [
       "1"
      ]
     },
     "execution_count": 109,
     "metadata": {},
     "output_type": "execute_result"
    }
   ],
   "source": [
    "10%3"
   ]
  },
  {
   "cell_type": "code",
   "execution_count": 110,
   "id": "3af9a88a-bd21-4621-9e42-cfc0e876213e",
   "metadata": {},
   "outputs": [],
   "source": [
    "def mn(x,y):\n",
    "    return x//y, x%y"
   ]
  },
  {
   "cell_type": "code",
   "execution_count": 111,
   "id": "cb9e3428-433a-4708-822f-9e114487abb9",
   "metadata": {},
   "outputs": [
    {
     "data": {
      "text/plain": [
       "(3, 1)"
      ]
     },
     "execution_count": 111,
     "metadata": {},
     "output_type": "execute_result"
    }
   ],
   "source": [
    "mn(10,3)"
   ]
  },
  {
   "cell_type": "code",
   "execution_count": 112,
   "id": "e1bfec97-6c65-4b2c-bdcc-d3607c333c3d",
   "metadata": {},
   "outputs": [
    {
     "data": {
      "text/plain": [
       "1000"
      ]
     },
     "execution_count": 112,
     "metadata": {},
     "output_type": "execute_result"
    }
   ],
   "source": [
    "10**3"
   ]
  },
  {
   "cell_type": "code",
   "execution_count": 113,
   "id": "7e351b7a-6080-4d22-8e99-fe6c71b10a0d",
   "metadata": {},
   "outputs": [
    {
     "data": {
      "text/plain": [
       "(203, 11)"
      ]
     },
     "execution_count": 113,
     "metadata": {},
     "output_type": "execute_result"
    }
   ],
   "source": [
    "mn(3462,17)"
   ]
  },
  {
   "cell_type": "code",
   "execution_count": 114,
   "id": "27209a21-b6df-49b4-8a9b-0e91a2ff8ee7",
   "metadata": {},
   "outputs": [
    {
     "data": {
      "text/plain": [
       "11"
      ]
     },
     "execution_count": 114,
     "metadata": {},
     "output_type": "execute_result"
    }
   ],
   "source": [
    "3462%17"
   ]
  },
  {
   "cell_type": "code",
   "execution_count": 115,
   "id": "9e40c968-38b1-4d29-a118-527e415571bd",
   "metadata": {},
   "outputs": [],
   "source": [
    "pi=3.141592 #파이선언"
   ]
  },
  {
   "cell_type": "code",
   "execution_count": 116,
   "id": "92deb3d0-6781-4405-be89-4beebdf67eca",
   "metadata": {},
   "outputs": [
    {
     "data": {
      "text/plain": [
       "3.141592"
      ]
     },
     "execution_count": 116,
     "metadata": {},
     "output_type": "execute_result"
    }
   ],
   "source": [
    "pi"
   ]
  },
  {
   "cell_type": "code",
   "execution_count": 117,
   "id": "1799c872-8a1e-4ae6-9413-db22d308722d",
   "metadata": {},
   "outputs": [],
   "source": [
    "import math"
   ]
  },
  {
   "cell_type": "code",
   "execution_count": 118,
   "id": "4a969bdb-4cc3-4711-a4a0-dbe9232a3259",
   "metadata": {},
   "outputs": [
    {
     "data": {
      "text/plain": [
       "['__doc__',\n",
       " '__loader__',\n",
       " '__name__',\n",
       " '__package__',\n",
       " '__spec__',\n",
       " 'acos',\n",
       " 'acosh',\n",
       " 'asin',\n",
       " 'asinh',\n",
       " 'atan',\n",
       " 'atan2',\n",
       " 'atanh',\n",
       " 'ceil',\n",
       " 'copysign',\n",
       " 'cos',\n",
       " 'cosh',\n",
       " 'degrees',\n",
       " 'e',\n",
       " 'erf',\n",
       " 'erfc',\n",
       " 'exp',\n",
       " 'expm1',\n",
       " 'fabs',\n",
       " 'factorial',\n",
       " 'floor',\n",
       " 'fmod',\n",
       " 'frexp',\n",
       " 'fsum',\n",
       " 'gamma',\n",
       " 'gcd',\n",
       " 'hypot',\n",
       " 'inf',\n",
       " 'isclose',\n",
       " 'isfinite',\n",
       " 'isinf',\n",
       " 'isnan',\n",
       " 'ldexp',\n",
       " 'lgamma',\n",
       " 'log',\n",
       " 'log10',\n",
       " 'log1p',\n",
       " 'log2',\n",
       " 'modf',\n",
       " 'nan',\n",
       " 'pi',\n",
       " 'pow',\n",
       " 'radians',\n",
       " 'remainder',\n",
       " 'sin',\n",
       " 'sinh',\n",
       " 'sqrt',\n",
       " 'tan',\n",
       " 'tanh',\n",
       " 'tau',\n",
       " 'trunc']"
      ]
     },
     "execution_count": 118,
     "metadata": {},
     "output_type": "execute_result"
    }
   ],
   "source": [
    "dir(math)"
   ]
  },
  {
   "cell_type": "code",
   "execution_count": 119,
   "id": "ee29876e-2013-4e7a-a04b-a1270325654c",
   "metadata": {},
   "outputs": [
    {
     "data": {
      "text/plain": [
       "3.141592653589793"
      ]
     },
     "execution_count": 119,
     "metadata": {},
     "output_type": "execute_result"
    }
   ],
   "source": [
    "math.pi"
   ]
  },
  {
   "cell_type": "code",
   "execution_count": 120,
   "id": "d0fb3bde-5d50-44d3-86c0-587f2a4dd843",
   "metadata": {},
   "outputs": [],
   "source": [
    "pi=math.pi #할당연산자"
   ]
  },
  {
   "cell_type": "code",
   "execution_count": 121,
   "id": "e4f9a4c4-e3ff-4869-94fb-501a34021c0c",
   "metadata": {},
   "outputs": [
    {
     "data": {
      "text/plain": [
       "3.141592653589793"
      ]
     },
     "execution_count": 121,
     "metadata": {},
     "output_type": "execute_result"
    }
   ],
   "source": [
    "pi"
   ]
  },
  {
   "cell_type": "code",
   "execution_count": 122,
   "id": "7a61db87-36c5-406d-a458-53701aeb29ce",
   "metadata": {},
   "outputs": [],
   "source": [
    "pi_ref=math.pi"
   ]
  },
  {
   "cell_type": "code",
   "execution_count": 123,
   "id": "69f7727c-ac3e-473e-93ee-eb53170797cb",
   "metadata": {},
   "outputs": [
    {
     "data": {
      "text/plain": [
       "3.141592653589793"
      ]
     },
     "execution_count": 123,
     "metadata": {},
     "output_type": "execute_result"
    }
   ],
   "source": [
    "pi_ref"
   ]
  },
  {
   "cell_type": "code",
   "execution_count": 124,
   "id": "9e2def9a-9abd-46fc-a088-4df80621bea1",
   "metadata": {},
   "outputs": [
    {
     "ename": "TypeError",
     "evalue": "object of type 'float' has no len()",
     "output_type": "error",
     "traceback": [
      "\u001b[1;31m---------------------------------------------------------------------------\u001b[0m",
      "\u001b[1;31mTypeError\u001b[0m                                 Traceback (most recent call last)",
      "\u001b[1;32m~\\AppData\\Local\\Temp/ipykernel_2644/2818264946.py\u001b[0m in \u001b[0;36m<module>\u001b[1;34m\u001b[0m\n\u001b[1;32m----> 1\u001b[1;33m \u001b[0mlen\u001b[0m\u001b[1;33m(\u001b[0m\u001b[0mpi_ref\u001b[0m\u001b[1;33m)\u001b[0m\u001b[1;33m\u001b[0m\u001b[1;33m\u001b[0m\u001b[0m\n\u001b[0m",
      "\u001b[1;31mTypeError\u001b[0m: object of type 'float' has no len()"
     ]
    }
   ],
   "source": [
    "len(pi_ref)"
   ]
  },
  {
   "cell_type": "code",
   "execution_count": 125,
   "id": "9bc77a8a-fab0-4049-9886-de6a0b01ed79",
   "metadata": {},
   "outputs": [
    {
     "data": {
      "text/plain": [
       "17"
      ]
     },
     "execution_count": 125,
     "metadata": {},
     "output_type": "execute_result"
    }
   ],
   "source": [
    "len(str(pi_ref)) #str으로 바꿔주면 됨"
   ]
  },
  {
   "cell_type": "code",
   "execution_count": 126,
   "id": "ea2507cd-a4e8-44ac-9c6d-328da99330f1",
   "metadata": {},
   "outputs": [
    {
     "name": "stdout",
     "output_type": "stream",
     "text": [
      "원둘레 62.83185307179586\n"
     ]
    }
   ],
   "source": [
    "r=10\n",
    "print(\"원둘레\",2*pi*r)"
   ]
  },
  {
   "cell_type": "code",
   "execution_count": 127,
   "id": "0bff20a1-f859-4317-86a9-7628490b679e",
   "metadata": {},
   "outputs": [
    {
     "name": "stdout",
     "output_type": "stream",
     "text": [
      "원넓이 314.1592653589793\n"
     ]
    }
   ],
   "source": [
    "print(\"원넓이\",pi*(r**2))"
   ]
  },
  {
   "cell_type": "code",
   "execution_count": 128,
   "id": "86b15c49-c0a5-494a-8384-d0c327b05368",
   "metadata": {},
   "outputs": [
    {
     "name": "stdout",
     "output_type": "stream",
     "text": [
      "1\n",
      "2\n",
      "3\n",
      "4\n",
      "5\n",
      "6\n",
      "7\n",
      "8\n",
      "9\n"
     ]
    }
   ],
   "source": [
    "for i in range(1,10):\n",
    "    print(i)"
   ]
  },
  {
   "cell_type": "code",
   "execution_count": 129,
   "id": "fab81317-3398-4b8c-b52d-83a5523425d8",
   "metadata": {},
   "outputs": [
    {
     "data": {
      "text/plain": [
       "[1, 2, 3, 4, 5, 6, 7, 8, 9, 10]"
      ]
     },
     "execution_count": 129,
     "metadata": {},
     "output_type": "execute_result"
    }
   ],
   "source": [
    "list(range(1,11))"
   ]
  },
  {
   "cell_type": "code",
   "execution_count": null,
   "id": "74bbc17e-d771-47e2-975d-d97d0dc7d3da",
   "metadata": {},
   "outputs": [],
   "source": [
    "# x='abcdefg'\n",
    "# for i in range(len(x)): #복합대입연산자\n",
    "#     print(x[])\n",
    "    "
   ]
  },
  {
   "cell_type": "code",
   "execution_count": 132,
   "id": "47cc4250-76c5-4fa2-8618-3f5bbd535f35",
   "metadata": {},
   "outputs": [
    {
     "name": "stdout",
     "output_type": "stream",
     "text": [
      "1\n",
      "2\n",
      "3\n",
      "4\n",
      "5\n",
      "6\n",
      "7\n",
      "8\n",
      "9\n",
      "10\n"
     ]
    }
   ],
   "source": [
    "x=1\n",
    "while x<11:\n",
    "    print(x)\n",
    "    x=x+1"
   ]
  },
  {
   "cell_type": "code",
   "execution_count": 133,
   "id": "ec3168d4-5768-4016-ba90-d2459f095785",
   "metadata": {},
   "outputs": [
    {
     "name": "stdout",
     "output_type": "stream",
     "text": [
      "1\n",
      "2\n",
      "3\n",
      "4\n",
      "5\n",
      "6\n",
      "7\n",
      "8\n",
      "9\n",
      "10\n"
     ]
    }
   ],
   "source": [
    "x=1\n",
    "while x<11:\n",
    "    print(x)\n",
    "    x += 1 #복합대입연산자, 위랑 같음 x=x+1"
   ]
  },
  {
   "cell_type": "code",
   "execution_count": 135,
   "id": "0163bfcd-13f7-4264-b2de-5497c072e5aa",
   "metadata": {},
   "outputs": [
    {
     "name": "stdout",
     "output_type": "stream",
     "text": [
      "2\n",
      "4\n",
      "8\n"
     ]
    }
   ],
   "source": [
    "x=2\n",
    "while x<11:\n",
    "    print(x)\n",
    "    x *=2"
   ]
  },
  {
   "cell_type": "code",
   "execution_count": 136,
   "id": "e5a7b6eb-4e75-430e-ad88-d8e8e2c9fca8",
   "metadata": {},
   "outputs": [
    {
     "data": {
      "text/plain": [
       "[1, 2, 3, 4, 5, 6, 7, 8, 9, 10]"
      ]
     },
     "execution_count": 136,
     "metadata": {},
     "output_type": "execute_result"
    }
   ],
   "source": [
    "list(range(1,11))"
   ]
  },
  {
   "cell_type": "code",
   "execution_count": 137,
   "id": "8a0f5360-9634-4e59-a878-f568d8ef2d35",
   "metadata": {},
   "outputs": [
    {
     "name": "stdin",
     "output_type": "stream",
     "text": [
      "dasd 이강욱\n"
     ]
    },
    {
     "data": {
      "text/plain": [
       "'이강욱'"
      ]
     },
     "execution_count": 137,
     "metadata": {},
     "output_type": "execute_result"
    }
   ],
   "source": [
    "input(\"dasd\")"
   ]
  },
  {
   "cell_type": "code",
   "execution_count": 138,
   "id": "2cfcfbb7-a21e-4e3c-ae43-a2f4f076ec8b",
   "metadata": {},
   "outputs": [
    {
     "data": {
      "text/plain": [
       "'이강욱'"
      ]
     },
     "execution_count": 138,
     "metadata": {},
     "output_type": "execute_result"
    }
   ],
   "source": [
    "'이강욱'"
   ]
  },
  {
   "cell_type": "code",
   "execution_count": 139,
   "id": "4116ec71-0f6f-4294-8e67-5574b33b8df9",
   "metadata": {},
   "outputs": [],
   "source": [
    "a='이강욱'"
   ]
  },
  {
   "cell_type": "code",
   "execution_count": 140,
   "id": "7f9f748d-d518-428b-865c-413e4986162d",
   "metadata": {},
   "outputs": [
    {
     "data": {
      "text/plain": [
       "'이강욱'"
      ]
     },
     "execution_count": 140,
     "metadata": {},
     "output_type": "execute_result"
    }
   ],
   "source": [
    "a"
   ]
  },
  {
   "cell_type": "code",
   "execution_count": 141,
   "id": "61dc36ff-dd4d-48d8-bd8d-8b2b1569b790",
   "metadata": {},
   "outputs": [],
   "source": [
    "def hello(x):\n",
    "    return \"안녕\"+x+\"님\""
   ]
  },
  {
   "cell_type": "code",
   "execution_count": 142,
   "id": "7149973d-e41a-4420-bdba-45251f500ecb",
   "metadata": {},
   "outputs": [
    {
     "data": {
      "text/plain": [
       "'안녕이강욱님'"
      ]
     },
     "execution_count": 142,
     "metadata": {},
     "output_type": "execute_result"
    }
   ],
   "source": [
    "hello(a)"
   ]
  },
  {
   "cell_type": "code",
   "execution_count": 143,
   "id": "0381c25b-a58f-448b-8e4e-10527c45e650",
   "metadata": {},
   "outputs": [
    {
     "name": "stdin",
     "output_type": "stream",
     "text": [
      "이름입력 어라\n"
     ]
    },
    {
     "data": {
      "text/plain": [
       "'안녕어라님'"
      ]
     },
     "execution_count": 143,
     "metadata": {},
     "output_type": "execute_result"
    }
   ],
   "source": [
    "a=input(\"이름입력\")\n",
    "hello(a)"
   ]
  },
  {
   "cell_type": "code",
   "execution_count": 149,
   "id": "dcce0b24-0a08-4762-b88c-8e974b510ea6",
   "metadata": {},
   "outputs": [
    {
     "name": "stdin",
     "output_type": "stream",
     "text": [
      "피제수입력 5\n",
      "제수입력 1\n"
     ]
    },
    {
     "ename": "TypeError",
     "evalue": "unsupported operand type(s) for //: 'str' and 'str'",
     "output_type": "error",
     "traceback": [
      "\u001b[1;31m---------------------------------------------------------------------------\u001b[0m",
      "\u001b[1;31mTypeError\u001b[0m                                 Traceback (most recent call last)",
      "\u001b[1;32m~\\AppData\\Local\\Temp/ipykernel_2644/3904847019.py\u001b[0m in \u001b[0;36m<module>\u001b[1;34m\u001b[0m\n\u001b[0;32m      5\u001b[0m \u001b[0mx\u001b[0m\u001b[1;33m=\u001b[0m\u001b[0minput\u001b[0m\u001b[1;33m(\u001b[0m\u001b[1;34m\"피제수입력\"\u001b[0m\u001b[1;33m)\u001b[0m\u001b[1;33m\u001b[0m\u001b[1;33m\u001b[0m\u001b[0m\n\u001b[0;32m      6\u001b[0m \u001b[0my\u001b[0m\u001b[1;33m=\u001b[0m\u001b[0minput\u001b[0m\u001b[1;33m(\u001b[0m\u001b[1;34m\"제수입력\"\u001b[0m\u001b[1;33m)\u001b[0m\u001b[1;33m\u001b[0m\u001b[1;33m\u001b[0m\u001b[0m\n\u001b[1;32m----> 7\u001b[1;33m \u001b[0mprint\u001b[0m\u001b[1;33m(\u001b[0m\u001b[1;34m\"몫은\"\u001b[0m\u001b[1;33m+\u001b[0m\u001b[0mint\u001b[0m\u001b[1;33m(\u001b[0m\u001b[0mx\u001b[0m\u001b[1;33m//\u001b[0m\u001b[0my\u001b[0m\u001b[1;33m)\u001b[0m\u001b[1;33m+\u001b[0m\u001b[1;34m\"이고, 나머지는\"\u001b[0m\u001b[1;33m+\u001b[0m\u001b[0mint\u001b[0m\u001b[1;33m(\u001b[0m\u001b[0mx\u001b[0m\u001b[1;33m%\u001b[0m\u001b[0my\u001b[0m\u001b[1;33m)\u001b[0m\u001b[1;33m+\u001b[0m\u001b[1;34m\"입니다\"\u001b[0m\u001b[1;33m)\u001b[0m\u001b[1;33m\u001b[0m\u001b[1;33m\u001b[0m\u001b[0m\n\u001b[0m",
      "\u001b[1;31mTypeError\u001b[0m: unsupported operand type(s) for //: 'str' and 'str'"
     ]
    }
   ],
   "source": [
    "#피제수와 제수 입력받아 몫과 나머지 출력\n",
    "#입력형식은 1.피제수를 입력 2.제수를 입력\n",
    "#몫은 -이고, 나머지는-입니다\n",
    "\n",
    "x=input(\"피제수입력\")\n",
    "y=input(\"제수입력\")\n",
    "print(\"몫은\"+int(x//y)+\"이고, 나머지는\"+int(x%y)+\"입니다\")"
   ]
  },
  {
   "cell_type": "code",
   "execution_count": 153,
   "id": "5c9d195c-ff61-4a2d-a30c-197430525c26",
   "metadata": {},
   "outputs": [
    {
     "name": "stdin",
     "output_type": "stream",
     "text": [
      "피제수입력 1234\n",
      "제수입력 5\n"
     ]
    },
    {
     "name": "stdout",
     "output_type": "stream",
     "text": [
      "몫은 246 이고 나머지는 4 입니다\n"
     ]
    }
   ],
   "source": [
    "x=input(\"피제수입력\")\n",
    "y=input(\"제수입력\")\n",
    "x=int(x)\n",
    "y=int(y)\n",
    "a=x//y\n",
    "b=x%y\n",
    "print(\"몫은\", a, \"이고\", \"나머지는\", b, \"입니다\")"
   ]
  },
  {
   "cell_type": "code",
   "execution_count": 154,
   "id": "e5352d3a-a07f-4aa2-a033-cb48d216fecb",
   "metadata": {},
   "outputs": [
    {
     "name": "stdin",
     "output_type": "stream",
     "text": [
      "피제수입력 1234\n",
      "제수입력 5\n"
     ]
    },
    {
     "name": "stdout",
     "output_type": "stream",
     "text": [
      "몫은 246 이고 나머지는 4 입니다\n"
     ]
    }
   ],
   "source": [
    "x=int(input(\"피제수입력\"))\n",
    "y=int(input(\"제수입력\"))\n",
    "a=x//y\n",
    "b=x%y\n",
    "print(\"몫은\", a, \"이고\", \"나머지는\", b, \"입니다\")"
   ]
  },
  {
   "cell_type": "code",
   "execution_count": 155,
   "id": "0239c06f-86cb-425f-839d-c65300a05601",
   "metadata": {},
   "outputs": [
    {
     "data": {
      "text/plain": [
       "int"
      ]
     },
     "execution_count": 155,
     "metadata": {},
     "output_type": "execute_result"
    }
   ],
   "source": [
    "type(a)"
   ]
  },
  {
   "cell_type": "code",
   "execution_count": 156,
   "id": "377e8e31-582b-4db4-93de-da9b871df1bd",
   "metadata": {},
   "outputs": [
    {
     "data": {
      "text/plain": [
       "int"
      ]
     },
     "execution_count": 156,
     "metadata": {},
     "output_type": "execute_result"
    }
   ],
   "source": [
    "type(int(a))"
   ]
  },
  {
   "cell_type": "code",
   "execution_count": 157,
   "id": "20d8302a-434e-4740-8c0a-eee1165d7101",
   "metadata": {},
   "outputs": [
    {
     "data": {
      "text/plain": [
       "246"
      ]
     },
     "execution_count": 157,
     "metadata": {},
     "output_type": "execute_result"
    }
   ],
   "source": [
    "int(a)"
   ]
  },
  {
   "cell_type": "code",
   "execution_count": 158,
   "id": "f9da0944-c9f0-48d5-b99b-8d2cc5334d85",
   "metadata": {},
   "outputs": [
    {
     "data": {
      "text/plain": [
       "5e-10"
      ]
     },
     "execution_count": 158,
     "metadata": {},
     "output_type": "execute_result"
    }
   ],
   "source": [
    "5e-10"
   ]
  },
  {
   "cell_type": "code",
   "execution_count": 159,
   "id": "953f5755-2da2-4063-bed9-9574128e5d19",
   "metadata": {},
   "outputs": [
    {
     "data": {
      "text/plain": [
       "50000000000.0"
      ]
     },
     "execution_count": 159,
     "metadata": {},
     "output_type": "execute_result"
    }
   ],
   "source": [
    "5e10"
   ]
  },
  {
   "cell_type": "code",
   "execution_count": 160,
   "id": "8b2b1fd8-29b2-461f-bf56-cfd111aafd97",
   "metadata": {},
   "outputs": [],
   "source": [
    "x=\"5e10\""
   ]
  },
  {
   "cell_type": "code",
   "execution_count": 161,
   "id": "a0e46fe8-66c7-49a9-98d0-e26cec88dd56",
   "metadata": {},
   "outputs": [
    {
     "data": {
      "text/plain": [
       "str"
      ]
     },
     "execution_count": 161,
     "metadata": {},
     "output_type": "execute_result"
    }
   ],
   "source": [
    "type(x)"
   ]
  },
  {
   "cell_type": "code",
   "execution_count": 162,
   "id": "bca837ad-128a-4a1e-9727-b9ecbabce560",
   "metadata": {},
   "outputs": [
    {
     "ename": "ValueError",
     "evalue": "invalid literal for int() with base 10: '5e10'",
     "output_type": "error",
     "traceback": [
      "\u001b[1;31m---------------------------------------------------------------------------\u001b[0m",
      "\u001b[1;31mValueError\u001b[0m                                Traceback (most recent call last)",
      "\u001b[1;32m~\\AppData\\Local\\Temp/ipykernel_2644/173064326.py\u001b[0m in \u001b[0;36m<module>\u001b[1;34m\u001b[0m\n\u001b[1;32m----> 1\u001b[1;33m \u001b[0mint\u001b[0m\u001b[1;33m(\u001b[0m\u001b[0mx\u001b[0m\u001b[1;33m)\u001b[0m\u001b[1;33m\u001b[0m\u001b[1;33m\u001b[0m\u001b[0m\n\u001b[0m",
      "\u001b[1;31mValueError\u001b[0m: invalid literal for int() with base 10: '5e10'"
     ]
    }
   ],
   "source": [
    "int(x)"
   ]
  },
  {
   "cell_type": "code",
   "execution_count": 163,
   "id": "3929cb7c-c08c-48d8-aae9-77fbfd9cec8b",
   "metadata": {},
   "outputs": [],
   "source": [
    "x=eval(\"5e10\") #수로 바꿔줌. 근데 위험하니 쓰지 말것."
   ]
  },
  {
   "cell_type": "code",
   "execution_count": 164,
   "id": "be8b72cf-c5b6-4046-9ec8-fbe65b8c1fed",
   "metadata": {},
   "outputs": [
    {
     "data": {
      "text/plain": [
       "50000000000.0"
      ]
     },
     "execution_count": 164,
     "metadata": {},
     "output_type": "execute_result"
    }
   ],
   "source": [
    "x"
   ]
  },
  {
   "cell_type": "code",
   "execution_count": 165,
   "id": "4d81e868-2573-495a-910b-9c5d236cacff",
   "metadata": {},
   "outputs": [
    {
     "data": {
      "text/plain": [
       "float"
      ]
     },
     "execution_count": 165,
     "metadata": {},
     "output_type": "execute_result"
    }
   ],
   "source": [
    "type(x)"
   ]
  },
  {
   "cell_type": "code",
   "execution_count": 167,
   "id": "fe765150-6064-40da-918c-6d23707a86ad",
   "metadata": {},
   "outputs": [
    {
     "data": {
      "text/plain": [
       "float"
      ]
     },
     "execution_count": 167,
     "metadata": {},
     "output_type": "execute_result"
    }
   ],
   "source": [
    "type(float(3))"
   ]
  },
  {
   "cell_type": "code",
   "execution_count": 168,
   "id": "88638f6b-d3a0-4ebd-b210-bbe5dab942ce",
   "metadata": {},
   "outputs": [
    {
     "data": {
      "text/plain": [
       "'3.0'"
      ]
     },
     "execution_count": 168,
     "metadata": {},
     "output_type": "execute_result"
    }
   ],
   "source": [
    "str(float(3))"
   ]
  },
  {
   "cell_type": "code",
   "execution_count": 169,
   "id": "e1247e6b-de6c-4eec-b00a-975ef20c3e41",
   "metadata": {},
   "outputs": [],
   "source": [
    "x=\"52.13\" #문자열이 들어왔을때"
   ]
  },
  {
   "cell_type": "code",
   "execution_count": 170,
   "id": "5acaa452-3c12-456d-bd9d-46c2d6ff7dad",
   "metadata": {},
   "outputs": [
    {
     "data": {
      "text/plain": [
       "str"
      ]
     },
     "execution_count": 170,
     "metadata": {},
     "output_type": "execute_result"
    }
   ],
   "source": [
    "type(x)"
   ]
  },
  {
   "cell_type": "code",
   "execution_count": 171,
   "id": "c3396e8a-b270-4f1c-bc09-ed4f803296f2",
   "metadata": {},
   "outputs": [
    {
     "data": {
      "text/plain": [
       "float"
      ]
     },
     "execution_count": 171,
     "metadata": {},
     "output_type": "execute_result"
    }
   ],
   "source": [
    "type(float(x))"
   ]
  },
  {
   "cell_type": "code",
   "execution_count": 172,
   "id": "bb226eee-2f65-45d0-b9b4-fbc978e9ed77",
   "metadata": {},
   "outputs": [
    {
     "ename": "ValueError",
     "evalue": "invalid literal for int() with base 10: '52.13'",
     "output_type": "error",
     "traceback": [
      "\u001b[1;31m---------------------------------------------------------------------------\u001b[0m",
      "\u001b[1;31mValueError\u001b[0m                                Traceback (most recent call last)",
      "\u001b[1;32m~\\AppData\\Local\\Temp/ipykernel_2644/2820812669.py\u001b[0m in \u001b[0;36m<module>\u001b[1;34m\u001b[0m\n\u001b[1;32m----> 1\u001b[1;33m \u001b[0mtype\u001b[0m\u001b[1;33m(\u001b[0m\u001b[0mint\u001b[0m\u001b[1;33m(\u001b[0m\u001b[0mx\u001b[0m\u001b[1;33m)\u001b[0m\u001b[1;33m)\u001b[0m\u001b[1;33m\u001b[0m\u001b[1;33m\u001b[0m\u001b[0m\n\u001b[0m",
      "\u001b[1;31mValueError\u001b[0m: invalid literal for int() with base 10: '52.13'"
     ]
    }
   ],
   "source": [
    "type(int(x))"
   ]
  },
  {
   "cell_type": "code",
   "execution_count": 173,
   "id": "4e2e2166-2f49-4909-9740-bb873ebad135",
   "metadata": {},
   "outputs": [
    {
     "data": {
      "text/plain": [
       "52.13"
      ]
     },
     "execution_count": 173,
     "metadata": {},
     "output_type": "execute_result"
    }
   ],
   "source": [
    "float(x)"
   ]
  },
  {
   "cell_type": "code",
   "execution_count": 174,
   "id": "e1b34b9c-2649-4e4a-bc87-50fb9fe5134b",
   "metadata": {},
   "outputs": [
    {
     "data": {
      "text/plain": [
       "52"
      ]
     },
     "execution_count": 174,
     "metadata": {},
     "output_type": "execute_result"
    }
   ],
   "source": [
    "int(float(x)) #수로 바꾸는 법"
   ]
  },
  {
   "cell_type": "code",
   "execution_count": 175,
   "id": "49145715-43d0-434f-912d-c6a3bdb5c4be",
   "metadata": {},
   "outputs": [
    {
     "name": "stdin",
     "output_type": "stream",
     "text": [
      "수치입력 53\n"
     ]
    },
    {
     "name": "stdout",
     "output_type": "stream",
     "text": [
      "입력한 53.0 inch는 134.62 cm다.\n"
     ]
    }
   ],
   "source": [
    "# 1inch==2.54cm\n",
    "x=float(input(\"수치입력\"))\n",
    "y=x*2.54\n",
    "print(\"입력한\",x,\"inch는\",y,\"cm다.\")"
   ]
  },
  {
   "cell_type": "code",
   "execution_count": 176,
   "id": "6519a68e-a586-4614-bf8c-bd281ab20867",
   "metadata": {},
   "outputs": [],
   "source": [
    "def inch_judge(x,y):\n",
    "    if y == \"1\":\n",
    "        result = x*2.54\n",
    "        result1 = str(result)+'인치입니다'\n",
    "    else:\n",
    "        result = x/2,54\n",
    "        result1 = str(result)+\"cm입니다\"\n",
    "    return result1"
   ]
  },
  {
   "cell_type": "code",
   "execution_count": 178,
   "id": "f815e45c-aaaa-4a08-8cf4-888821013551",
   "metadata": {},
   "outputs": [
    {
     "name": "stdin",
     "output_type": "stream",
     "text": [
      "수치입력 20\n",
      "단위가 inch이면 1을 cm이면 아무 키 입력 1\n"
     ]
    },
    {
     "data": {
      "text/plain": [
       "'50.8인치입니다'"
      ]
     },
     "execution_count": 178,
     "metadata": {},
     "output_type": "execute_result"
    }
   ],
   "source": [
    "# 1inch==2.54cm\n",
    "x=float(input(\"수치입력\"))\n",
    "y=input(\"단위가 inch이면 1을 cm이면 아무 키 입력\")\n",
    "inch_judge(x,y)"
   ]
  },
  {
   "cell_type": "code",
   "execution_count": 179,
   "id": "66fec0a8-68ef-47bd-b0a7-587427a1b4f5",
   "metadata": {},
   "outputs": [
    {
     "name": "stdin",
     "output_type": "stream",
     "text": [
      "수치입력 10\n",
      "단위가 inch이면 1을 cm이면 아무 키 입력 1\n"
     ]
    },
    {
     "name": "stdout",
     "output_type": "stream",
     "text": [
      "25.4인치입니다\n"
     ]
    }
   ],
   "source": [
    "def inch_judge(x,y):\n",
    "    if y == \"1\":\n",
    "        result = x*2.54\n",
    "        print(str(result)+'인치입니다') #함수에 꼭 리턴 필수아니고 프린트 쓰면 됨\n",
    "    else:\n",
    "        result = x/2,54\n",
    "        print(str(result)+\"cm입니다\")\n",
    "# 1inch==2.54cm\n",
    "x=float(input(\"수치입력\"))\n",
    "y=input(\"단위가 inch이면 1을 cm이면 아무 키 입력\")\n",
    "inch_judge(x,y)"
   ]
  },
  {
   "cell_type": "code",
   "execution_count": 181,
   "id": "6cb5d12e-ca2e-493d-8b63-1dbc4175581f",
   "metadata": {},
   "outputs": [
    {
     "data": {
      "text/plain": [
       "'A단위가 inch이면 1을 cm이면 아무 키 입력'"
      ]
     },
     "execution_count": 181,
     "metadata": {},
     "output_type": "execute_result"
    }
   ],
   "source": [
    "\"a단위가 inch이면 1을 cm이면 아무 키 입력\".capitalize() #대문자화"
   ]
  },
  {
   "cell_type": "code",
   "execution_count": 182,
   "id": "ca0c60c5-0798-4ec1-baba-3969a5533859",
   "metadata": {},
   "outputs": [
    {
     "data": {
      "text/plain": [
       "2"
      ]
     },
     "execution_count": 182,
     "metadata": {},
     "output_type": "execute_result"
    }
   ],
   "source": [
    "\"abc def adg\".count('a') #괄호안 문자가 몇 번 나오는지 세줌"
   ]
  },
  {
   "cell_type": "code",
   "execution_count": 183,
   "id": "7787aeeb-9c89-4331-a8f1-c335f5357a1f",
   "metadata": {},
   "outputs": [
    {
     "data": {
      "text/plain": [
       "1"
      ]
     },
     "execution_count": 183,
     "metadata": {},
     "output_type": "execute_result"
    }
   ],
   "source": [
    "\"abc def adg\".count('ab') #하나의 문자로 인식함"
   ]
  },
  {
   "cell_type": "code",
   "execution_count": 184,
   "id": "71e44d04-55f0-4352-8c6e-3b9e339ec4ea",
   "metadata": {},
   "outputs": [
    {
     "data": {
      "text/plain": [
       "False"
      ]
     },
     "execution_count": 184,
     "metadata": {},
     "output_type": "execute_result"
    }
   ],
   "source": [
    "\"abc def adg\".isalpha() #-는 -다. 트루, 펄스"
   ]
  },
  {
   "cell_type": "code",
   "execution_count": 185,
   "id": "aad73587-760b-486d-a609-c77410859749",
   "metadata": {},
   "outputs": [],
   "source": [
    "string_a=\"{}\".format(10) #값을 받아서 변환시킨다"
   ]
  },
  {
   "cell_type": "code",
   "execution_count": 186,
   "id": "e964af29-a5d4-4a1e-abe4-8bae321d9497",
   "metadata": {},
   "outputs": [
    {
     "data": {
      "text/plain": [
       "'10'"
      ]
     },
     "execution_count": 186,
     "metadata": {},
     "output_type": "execute_result"
    }
   ],
   "source": [
    "string_a"
   ]
  },
  {
   "cell_type": "code",
   "execution_count": 187,
   "id": "7304c8df-40c7-4db5-b627-dfe38f877a3c",
   "metadata": {},
   "outputs": [],
   "source": [
    "string_a=\"xxx{}yyy\".format(10)"
   ]
  },
  {
   "cell_type": "code",
   "execution_count": 188,
   "id": "6b65de32-31a4-46cf-97e0-a5f68746797c",
   "metadata": {},
   "outputs": [
    {
     "data": {
      "text/plain": [
       "'xxx10yyy'"
      ]
     },
     "execution_count": 188,
     "metadata": {},
     "output_type": "execute_result"
    }
   ],
   "source": [
    "string_a"
   ]
  },
  {
   "cell_type": "code",
   "execution_count": 189,
   "id": "45e4cdc4-a758-4fbd-9b48-d610c6c41309",
   "metadata": {},
   "outputs": [
    {
     "name": "stdin",
     "output_type": "stream",
     "text": [
      "수치입력 10\n",
      "단위가 inch이면 1을 cm이면 아무 키 입력 1\n"
     ]
    },
    {
     "name": "stdout",
     "output_type": "stream",
     "text": [
      "25.4 인치입니다\n"
     ]
    }
   ],
   "source": [
    "def inch_judge(x,y):\n",
    "    if y == \"1\":\n",
    "        result = x*2.54\n",
    "        print('{} 인치입니다'.format(result)) #{}뜻: str\n",
    "    else:\n",
    "        result = x/2,54\n",
    "        print(\"{} cm입니다\".format(result))\n",
    "# 1inch==2.54cm\n",
    "x=float(input(\"수치입력\"))\n",
    "y=input(\"단위가 inch이면 1을 cm이면 아무 키 입력\")\n",
    "inch_judge(x,y)"
   ]
  },
  {
   "cell_type": "code",
   "execution_count": 209,
   "id": "1e6ed6c2-e360-4a97-8a6d-4b5ab8a991a6",
   "metadata": {},
   "outputs": [
    {
     "name": "stdin",
     "output_type": "stream",
     "text": [
      "수치입력 10\n",
      "단위가 inch이면 1을 cm이면 아무 키 입력 1\n"
     ]
    },
    {
     "name": "stdout",
     "output_type": "stream",
     "text": [
      "입력한 10inch는 변환결과25.4cm입니다\n"
     ]
    }
   ],
   "source": [
    "def inch_judge(x,y):\n",
    "    if y == \"1\":\n",
    "        result = x*2.54\n",
    "        print('입력한 {:g}inch는 변환결과{}cm입니다'.format(x,result)) #{}뜻: str?, :g로 소수점 뒷자리 없앰\n",
    "    else:\n",
    "        result = x/2,54\n",
    "        print(\"{} cm입니다\".format(result))\n",
    "# 1inch==2.54cm\n",
    "x=float(input(\"수치입력\"))\n",
    "y=input(\"단위가 inch이면 1을 cm이면 아무 키 입력\")\n",
    "inch_judge(x,y)"
   ]
  },
  {
   "cell_type": "code",
   "execution_count": 191,
   "id": "e6702826-cf6b-4381-8c8e-b027aaaff6d6",
   "metadata": {},
   "outputs": [],
   "source": [
    "#f.str 을 많이 쓴다 "
   ]
  },
  {
   "cell_type": "code",
   "execution_count": 192,
   "id": "0974cb56-215f-45ec-8c49-65c2e86c72ae",
   "metadata": {},
   "outputs": [
    {
     "data": {
      "text/plain": [
       "'52'"
      ]
     },
     "execution_count": 192,
     "metadata": {},
     "output_type": "execute_result"
    }
   ],
   "source": [
    "'{:d}'.format(52) #문자열이 나옴"
   ]
  },
  {
   "cell_type": "code",
   "execution_count": 193,
   "id": "fd33e086-07fb-4ea0-b3da-9b456f382594",
   "metadata": {},
   "outputs": [
    {
     "data": {
      "text/plain": [
       "'   52'"
      ]
     },
     "execution_count": 193,
     "metadata": {},
     "output_type": "execute_result"
    }
   ],
   "source": [
    "\"{:5d}\".format(52) #5칸이 빔"
   ]
  },
  {
   "cell_type": "code",
   "execution_count": 196,
   "id": "a7c67ec5-6484-4c7b-85b2-ce9a5a38dee6",
   "metadata": {},
   "outputs": [
    {
     "name": "stdout",
     "output_type": "stream",
     "text": [
      "   52\n",
      "00052\n"
     ]
    }
   ],
   "source": [
    "print(\"{:5d}\".format(52))\n",
    "print(\"{:05d}\".format(52))"
   ]
  },
  {
   "cell_type": "code",
   "execution_count": 199,
   "id": "d687619f-d2c0-46d6-a19e-cdb2091e97a3",
   "metadata": {},
   "outputs": [
    {
     "name": "stdout",
     "output_type": "stream",
     "text": [
      "        52\n",
      "0000000052\n",
      "-000000052\n"
     ]
    }
   ],
   "source": [
    "print(\"{:10d}\".format(52))\n",
    "print(\"{:010d}\".format(52))\n",
    "print(\"{:010d}\".format(-52))"
   ]
  },
  {
   "cell_type": "code",
   "execution_count": 201,
   "id": "ec7c9917-1406-4e2c-bbed-c9c804055157",
   "metadata": {},
   "outputs": [
    {
     "name": "stdout",
     "output_type": "stream",
     "text": [
      "+52\n",
      "-52\n"
     ]
    }
   ],
   "source": [
    "print(\"{:+d}\".format(52))\n",
    "print(\"{:+d}\".format(-52))"
   ]
  },
  {
   "cell_type": "code",
   "execution_count": 204,
   "id": "ae5276e6-c6b1-4cd2-976c-790452fee5ed",
   "metadata": {},
   "outputs": [
    {
     "data": {
      "text/plain": [
       "'52.723000'"
      ]
     },
     "execution_count": 204,
     "metadata": {},
     "output_type": "execute_result"
    }
   ],
   "source": [
    "\"{:f}\".format(52.723)"
   ]
  },
  {
   "cell_type": "code",
   "execution_count": 205,
   "id": "009e3260-92b6-4d24-bed7-7bfd6d8d52ed",
   "metadata": {},
   "outputs": [
    {
     "data": {
      "text/plain": [
       "'      52.723000'"
      ]
     },
     "execution_count": 205,
     "metadata": {},
     "output_type": "execute_result"
    }
   ],
   "source": [
    "\"{:15f}\".format(52.723)"
   ]
  },
  {
   "cell_type": "code",
   "execution_count": 207,
   "id": "0082fcb4-986e-440d-b57e-f14a0e239507",
   "metadata": {},
   "outputs": [
    {
     "data": {
      "text/plain": [
       "'52.72'"
      ]
     },
     "execution_count": 207,
     "metadata": {},
     "output_type": "execute_result"
    }
   ],
   "source": [
    "\"{:.2f}\".format(52.723)"
   ]
  },
  {
   "cell_type": "code",
   "execution_count": 208,
   "id": "087fbf60-c36f-49bd-887e-5a6d0098ecd8",
   "metadata": {},
   "outputs": [
    {
     "data": {
      "text/plain": [
       "10.0"
      ]
     },
     "execution_count": 208,
     "metadata": {},
     "output_type": "execute_result"
    }
   ],
   "source": [
    "X=52\n",
    "float(x)"
   ]
  },
  {
   "cell_type": "code",
   "execution_count": 223,
   "id": "86446a9f-c189-4c4e-a5a8-4e5cc13ee60e",
   "metadata": {},
   "outputs": [
    {
     "data": {
      "text/plain": [
       "1"
      ]
     },
     "execution_count": 223,
     "metadata": {},
     "output_type": "execute_result"
    }
   ],
   "source": [
    "(\" Hello World\".isalnum())+1"
   ]
  },
  {
   "cell_type": "code",
   "execution_count": 226,
   "id": "017cfe4b-d549-44cf-85d2-e873d2011aeb",
   "metadata": {},
   "outputs": [
    {
     "data": {
      "text/plain": [
       "2"
      ]
     },
     "execution_count": 226,
     "metadata": {},
     "output_type": "execute_result"
    }
   ],
   "source": [
    "\"asfgdgagh\".find('fg') #위치 찾아줌, 몇번쨰부터 시작한다"
   ]
  },
  {
   "cell_type": "code",
   "execution_count": 227,
   "id": "3f223639-05fa-4c54-a63d-d355883ad751",
   "metadata": {},
   "outputs": [
    {
     "data": {
      "text/plain": [
       "5"
      ]
     },
     "execution_count": 227,
     "metadata": {},
     "output_type": "execute_result"
    }
   ],
   "source": [
    "\"asfgd gagh\".find(' ') #위치 찾아줌, 몇번쨰부터 시작한다"
   ]
  },
  {
   "cell_type": "code",
   "execution_count": 228,
   "id": "9230ddda-2bc5-4022-b610-da99552d2c38",
   "metadata": {},
   "outputs": [
    {
     "data": {
      "text/plain": [
       "'World'"
      ]
     },
     "execution_count": 228,
     "metadata": {},
     "output_type": "execute_result"
    }
   ],
   "source": [
    "\"Hello World\"[6:]"
   ]
  },
  {
   "cell_type": "code",
   "execution_count": 230,
   "id": "ed54bf38-36c4-4454-8dbf-70b3baff9720",
   "metadata": {},
   "outputs": [
    {
     "data": {
      "text/plain": [
       "' World'"
      ]
     },
     "execution_count": 230,
     "metadata": {},
     "output_type": "execute_result"
    }
   ],
   "source": [
    "\"Hello World\"[\"Hello World\".find(\" \"):]"
   ]
  },
  {
   "cell_type": "code",
   "execution_count": 231,
   "id": "fb9d3a27-ffab-4d70-a293-8d5d1c54eee7",
   "metadata": {},
   "outputs": [
    {
     "data": {
      "text/plain": [
       "'World'"
      ]
     },
     "execution_count": 231,
     "metadata": {},
     "output_type": "execute_result"
    }
   ],
   "source": [
    "\"Hello World\"[\"Hello World\".find(\" \")+1:]"
   ]
  },
  {
   "cell_type": "code",
   "execution_count": 232,
   "id": "a82d6a0b-de3b-4206-84f6-ec5938ab98da",
   "metadata": {},
   "outputs": [
    {
     "data": {
      "text/plain": [
       "'World'"
      ]
     },
     "execution_count": 232,
     "metadata": {},
     "output_type": "execute_result"
    }
   ],
   "source": [
    "\"Hello World\"[\"Hello World\".find(\" \"):].lstrip()"
   ]
  },
  {
   "cell_type": "code",
   "execution_count": 233,
   "id": "17d8ccf1-e615-465f-892e-ff624de7c572",
   "metadata": {},
   "outputs": [
    {
     "data": {
      "text/plain": [
       "True"
      ]
     },
     "execution_count": 233,
     "metadata": {},
     "output_type": "execute_result"
    }
   ],
   "source": [
    "'xy'in\"xyz cdc\""
   ]
  },
  {
   "cell_type": "code",
   "execution_count": 235,
   "id": "4a44b358-5c86-4cd6-99a4-49cb107ec1f3",
   "metadata": {},
   "outputs": [
    {
     "data": {
      "text/plain": [
       "False"
      ]
     },
     "execution_count": 235,
     "metadata": {},
     "output_type": "execute_result"
    }
   ],
   "source": [
    "787878781%3==0"
   ]
  },
  {
   "cell_type": "code",
   "execution_count": 236,
   "id": "2032970c-e5e7-42a4-bb42-f2e660e560c7",
   "metadata": {},
   "outputs": [
    {
     "data": {
      "text/plain": [
       "['xyz', 'ahs', 'df']"
      ]
     },
     "execution_count": 236,
     "metadata": {},
     "output_type": "execute_result"
    }
   ],
   "source": [
    "\"xyz ahs df\".split()"
   ]
  },
  {
   "cell_type": "code",
   "execution_count": 242,
   "id": "3af7bde5-71cc-41b9-b305-0089acc93929",
   "metadata": {},
   "outputs": [
    {
     "data": {
      "text/plain": [
       "'뒤'"
      ]
     },
     "execution_count": 242,
     "metadata": {},
     "output_type": "execute_result"
    }
   ],
   "source": [
    "\"\"\"\n",
    "부분에 다음 내용을 입력한 뒤 엔터 키를 누릅니다.\n",
    "\"\"\".split()[4]"
   ]
  },
  {
   "cell_type": "code",
   "execution_count": 244,
   "id": "cb926015-98a7-4d01-b5fc-1bd5fb2ee494",
   "metadata": {},
   "outputs": [
    {
     "data": {
      "text/plain": [
       "['\\n부분에', '다음', '내용을', '입력한', '뒤', '(엔터', '키)를', '누릅니다.\\n']"
      ]
     },
     "execution_count": 244,
     "metadata": {},
     "output_type": "execute_result"
    }
   ],
   "source": [
    "\"\"\"\n",
    "부분에 다음 내용을 입력한 뒤 (엔터 키)를 누릅니다.\n",
    "\"\"\".split(\" \")"
   ]
  },
  {
   "cell_type": "code",
   "execution_count": 245,
   "id": "bb1dea9a-d8c8-4954-86bd-15a86a5e5066",
   "metadata": {},
   "outputs": [
    {
     "ename": "ValueError",
     "evalue": "empty separator",
     "output_type": "error",
     "traceback": [
      "\u001b[1;31m---------------------------------------------------------------------------\u001b[0m",
      "\u001b[1;31mValueError\u001b[0m                                Traceback (most recent call last)",
      "\u001b[1;32m~\\AppData\\Local\\Temp/ipykernel_2644/1526815339.py\u001b[0m in \u001b[0;36m<module>\u001b[1;34m\u001b[0m\n\u001b[1;32m----> 1\u001b[1;33m \u001b[1;34m\"123445684\"\u001b[0m\u001b[1;33m.\u001b[0m\u001b[0msplit\u001b[0m\u001b[1;33m(\u001b[0m\u001b[1;34m\"\"\u001b[0m\u001b[1;33m)\u001b[0m\u001b[1;33m\u001b[0m\u001b[1;33m\u001b[0m\u001b[0m\n\u001b[0m",
      "\u001b[1;31mValueError\u001b[0m: empty separator"
     ]
    }
   ],
   "source": [
    "\"123445684\".split(\"\")"
   ]
  },
  {
   "cell_type": "code",
   "execution_count": 254,
   "id": "eb8607fc-9e44-4b32-bbb7-d536e5f30526",
   "metadata": {},
   "outputs": [],
   "source": [
    "def factor(x): #!함수 만들기\n",
    "    j=1\n",
    "    for i in range(1, x+1):\n",
    "        j=j*i\n",
    "    return j"
   ]
  },
  {
   "cell_type": "code",
   "execution_count": 255,
   "id": "5cd4f93d-dd54-4bfc-80dc-9409a4303a55",
   "metadata": {},
   "outputs": [
    {
     "data": {
      "text/plain": [
       "6"
      ]
     },
     "execution_count": 255,
     "metadata": {},
     "output_type": "execute_result"
    }
   ],
   "source": [
    "factor(3)"
   ]
  },
  {
   "cell_type": "code",
   "execution_count": 257,
   "id": "52a6799c-ef2a-4b5b-b456-22044a307f3b",
   "metadata": {},
   "outputs": [
    {
     "data": {
      "text/plain": [
       "False"
      ]
     },
     "execution_count": 257,
     "metadata": {},
     "output_type": "execute_result"
    }
   ],
   "source": [
    "x=10**30 #둘 중 어느게 클까: 데이터로부터 어떤 값을 가져올 때 씀\n",
    "y=factor(30)\n",
    "x>y"
   ]
  },
  {
   "cell_type": "code",
   "execution_count": 258,
   "id": "d010b7a4-dbef-4a20-bc93-8547a0fc0d0f",
   "metadata": {},
   "outputs": [
    {
     "name": "stdout",
     "output_type": "stream",
     "text": [
      "26 10000000000000000000000000 15511210043330985984000000\n"
     ]
    }
   ],
   "source": [
    "i=1\n",
    "while True: #무한루프\n",
    "    x=10**i\n",
    "    y=factor(i)\n",
    "    i += 1\n",
    "    if x<y:\n",
    "        print(i,x,y)\n",
    "        break "
   ]
  },
  {
   "cell_type": "code",
   "execution_count": null,
   "id": "71de25a3-afe6-464d-9a6e-a880cc8ec3e8",
   "metadata": {},
   "outputs": [],
   "source": []
  }
 ],
 "metadata": {
  "kernelspec": {
   "display_name": "kbu",
   "language": "python",
   "name": "kbu"
  },
  "language_info": {
   "codemirror_mode": {
    "name": "ipython",
    "version": 3
   },
   "file_extension": ".py",
   "mimetype": "text/x-python",
   "name": "python",
   "nbconvert_exporter": "python",
   "pygments_lexer": "ipython3",
   "version": "3.7.11"
  }
 },
 "nbformat": 4,
 "nbformat_minor": 5
}
